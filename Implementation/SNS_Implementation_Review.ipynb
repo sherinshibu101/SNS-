{
  "cells": [
    {
      "cell_type": "code",
      "execution_count": null,
      "metadata": {
        "id": "4vro-ZheQu3y",
        "colab": {
          "base_uri": "https://localhost:8080/",
          "height": 304
        },
        "outputId": "cb85c8a0-cc69-4c29-de02-0e991bf4d9f5",
        "collapsed": true
      },
      "outputs": [
        {
          "output_type": "error",
          "ename": "MessageError",
          "evalue": "Error: credential propagation was unsuccessful",
          "traceback": [
            "\u001b[0;31m---------------------------------------------------------------------------\u001b[0m",
            "\u001b[0;31mMessageError\u001b[0m                              Traceback (most recent call last)",
            "\u001b[0;32m<ipython-input-1-d5df0069828e>\u001b[0m in \u001b[0;36m<cell line: 0>\u001b[0;34m()\u001b[0m\n\u001b[1;32m      1\u001b[0m \u001b[0;32mfrom\u001b[0m \u001b[0mgoogle\u001b[0m\u001b[0;34m.\u001b[0m\u001b[0mcolab\u001b[0m \u001b[0;32mimport\u001b[0m \u001b[0mdrive\u001b[0m\u001b[0;34m\u001b[0m\u001b[0;34m\u001b[0m\u001b[0m\n\u001b[0;32m----> 2\u001b[0;31m \u001b[0mdrive\u001b[0m\u001b[0;34m.\u001b[0m\u001b[0mmount\u001b[0m\u001b[0;34m(\u001b[0m\u001b[0;34m'/content/drive'\u001b[0m\u001b[0;34m)\u001b[0m\u001b[0;34m\u001b[0m\u001b[0;34m\u001b[0m\u001b[0m\n\u001b[0m",
            "\u001b[0;32m/usr/local/lib/python3.11/dist-packages/google/colab/drive.py\u001b[0m in \u001b[0;36mmount\u001b[0;34m(mountpoint, force_remount, timeout_ms, readonly)\u001b[0m\n\u001b[1;32m     98\u001b[0m \u001b[0;32mdef\u001b[0m \u001b[0mmount\u001b[0m\u001b[0;34m(\u001b[0m\u001b[0mmountpoint\u001b[0m\u001b[0;34m,\u001b[0m \u001b[0mforce_remount\u001b[0m\u001b[0;34m=\u001b[0m\u001b[0;32mFalse\u001b[0m\u001b[0;34m,\u001b[0m \u001b[0mtimeout_ms\u001b[0m\u001b[0;34m=\u001b[0m\u001b[0;36m120000\u001b[0m\u001b[0;34m,\u001b[0m \u001b[0mreadonly\u001b[0m\u001b[0;34m=\u001b[0m\u001b[0;32mFalse\u001b[0m\u001b[0;34m)\u001b[0m\u001b[0;34m:\u001b[0m\u001b[0;34m\u001b[0m\u001b[0;34m\u001b[0m\u001b[0m\n\u001b[1;32m     99\u001b[0m   \u001b[0;34m\"\"\"Mount your Google Drive at the specified mountpoint path.\"\"\"\u001b[0m\u001b[0;34m\u001b[0m\u001b[0;34m\u001b[0m\u001b[0m\n\u001b[0;32m--> 100\u001b[0;31m   return _mount(\n\u001b[0m\u001b[1;32m    101\u001b[0m       \u001b[0mmountpoint\u001b[0m\u001b[0;34m,\u001b[0m\u001b[0;34m\u001b[0m\u001b[0;34m\u001b[0m\u001b[0m\n\u001b[1;32m    102\u001b[0m       \u001b[0mforce_remount\u001b[0m\u001b[0;34m=\u001b[0m\u001b[0mforce_remount\u001b[0m\u001b[0;34m,\u001b[0m\u001b[0;34m\u001b[0m\u001b[0;34m\u001b[0m\u001b[0m\n",
            "\u001b[0;32m/usr/local/lib/python3.11/dist-packages/google/colab/drive.py\u001b[0m in \u001b[0;36m_mount\u001b[0;34m(mountpoint, force_remount, timeout_ms, ephemeral, readonly)\u001b[0m\n\u001b[1;32m    135\u001b[0m   )\n\u001b[1;32m    136\u001b[0m   \u001b[0;32mif\u001b[0m \u001b[0mephemeral\u001b[0m\u001b[0;34m:\u001b[0m\u001b[0;34m\u001b[0m\u001b[0;34m\u001b[0m\u001b[0m\n\u001b[0;32m--> 137\u001b[0;31m     _message.blocking_request(\n\u001b[0m\u001b[1;32m    138\u001b[0m         \u001b[0;34m'request_auth'\u001b[0m\u001b[0;34m,\u001b[0m\u001b[0;34m\u001b[0m\u001b[0;34m\u001b[0m\u001b[0m\n\u001b[1;32m    139\u001b[0m         \u001b[0mrequest\u001b[0m\u001b[0;34m=\u001b[0m\u001b[0;34m{\u001b[0m\u001b[0;34m'authType'\u001b[0m\u001b[0;34m:\u001b[0m \u001b[0;34m'dfs_ephemeral'\u001b[0m\u001b[0;34m}\u001b[0m\u001b[0;34m,\u001b[0m\u001b[0;34m\u001b[0m\u001b[0;34m\u001b[0m\u001b[0m\n",
            "\u001b[0;32m/usr/local/lib/python3.11/dist-packages/google/colab/_message.py\u001b[0m in \u001b[0;36mblocking_request\u001b[0;34m(request_type, request, timeout_sec, parent)\u001b[0m\n\u001b[1;32m    174\u001b[0m       \u001b[0mrequest_type\u001b[0m\u001b[0;34m,\u001b[0m \u001b[0mrequest\u001b[0m\u001b[0;34m,\u001b[0m \u001b[0mparent\u001b[0m\u001b[0;34m=\u001b[0m\u001b[0mparent\u001b[0m\u001b[0;34m,\u001b[0m \u001b[0mexpect_reply\u001b[0m\u001b[0;34m=\u001b[0m\u001b[0;32mTrue\u001b[0m\u001b[0;34m\u001b[0m\u001b[0;34m\u001b[0m\u001b[0m\n\u001b[1;32m    175\u001b[0m   )\n\u001b[0;32m--> 176\u001b[0;31m   \u001b[0;32mreturn\u001b[0m \u001b[0mread_reply_from_input\u001b[0m\u001b[0;34m(\u001b[0m\u001b[0mrequest_id\u001b[0m\u001b[0;34m,\u001b[0m \u001b[0mtimeout_sec\u001b[0m\u001b[0;34m)\u001b[0m\u001b[0;34m\u001b[0m\u001b[0;34m\u001b[0m\u001b[0m\n\u001b[0m",
            "\u001b[0;32m/usr/local/lib/python3.11/dist-packages/google/colab/_message.py\u001b[0m in \u001b[0;36mread_reply_from_input\u001b[0;34m(message_id, timeout_sec)\u001b[0m\n\u001b[1;32m    101\u001b[0m     ):\n\u001b[1;32m    102\u001b[0m       \u001b[0;32mif\u001b[0m \u001b[0;34m'error'\u001b[0m \u001b[0;32min\u001b[0m \u001b[0mreply\u001b[0m\u001b[0;34m:\u001b[0m\u001b[0;34m\u001b[0m\u001b[0;34m\u001b[0m\u001b[0m\n\u001b[0;32m--> 103\u001b[0;31m         \u001b[0;32mraise\u001b[0m \u001b[0mMessageError\u001b[0m\u001b[0;34m(\u001b[0m\u001b[0mreply\u001b[0m\u001b[0;34m[\u001b[0m\u001b[0;34m'error'\u001b[0m\u001b[0;34m]\u001b[0m\u001b[0;34m)\u001b[0m\u001b[0;34m\u001b[0m\u001b[0;34m\u001b[0m\u001b[0m\n\u001b[0m\u001b[1;32m    104\u001b[0m       \u001b[0;32mreturn\u001b[0m \u001b[0mreply\u001b[0m\u001b[0;34m.\u001b[0m\u001b[0mget\u001b[0m\u001b[0;34m(\u001b[0m\u001b[0;34m'data'\u001b[0m\u001b[0;34m,\u001b[0m \u001b[0;32mNone\u001b[0m\u001b[0;34m)\u001b[0m\u001b[0;34m\u001b[0m\u001b[0;34m\u001b[0m\u001b[0m\n\u001b[1;32m    105\u001b[0m \u001b[0;34m\u001b[0m\u001b[0m\n",
            "\u001b[0;31mMessageError\u001b[0m: Error: credential propagation was unsuccessful"
          ]
        }
      ],
      "source": [
        "from google.colab import drive\n",
        "drive.mount('/content/drive')"
      ]
    },
    {
      "cell_type": "code",
      "execution_count": null,
      "metadata": {
        "id": "5K6ZJT2j2Yi7"
      },
      "outputs": [],
      "source": [
        "import gzip\n",
        "import networkx as nx\n",
        "import pandas as pd\n",
        "from collections import defaultdict"
      ]
    },
    {
      "cell_type": "markdown",
      "metadata": {
        "id": "o9c6y-KA2EQD"
      },
      "source": [
        "Stage 1\n"
      ]
    },
    {
      "cell_type": "code",
      "execution_count": null,
      "metadata": {
        "colab": {
          "base_uri": "https://localhost:8080/"
        },
        "id": "yIsNmK5V2GHl",
        "outputId": "1e0e9d08-1ce4-42e4-a81d-0bbced9561dc"
      },
      "outputs": [
        {
          "name": "stdout",
          "output_type": "stream",
          "text": [
            "✅ Unified graph created.\n",
            "Number of nodes: 456626\n",
            "Number of edges: 15056959\n",
            "\n",
            "📌 Sample edges with attributes:\n",
            "1 -> 2 | {'edge_type': 'follow'}\n",
            "1 -> 3 | {'edge_type': 'follow'}\n",
            "1 -> 4 | {'edge_type': 'follow'}\n",
            "1 -> 5 | {'edge_type': 'follow'}\n",
            "1 -> 6 | {'edge_type': 'follow'}\n"
          ]
        }
      ],
      "source": [
        "import pandas as pd\n",
        "import networkx as nx\n",
        "\n",
        "# ========== Step 1: Load All Files ==========\n",
        "\n",
        "base_path = \"/content/drive/MyDrive/SNS/data/\"\n",
        "\n",
        "# File mappings\n",
        "file_paths = {\n",
        "    \"follow\": \"higgs-social_network.edgelist\",\n",
        "    \"retweet\": \"higgs-retweet_network.edgelist\",\n",
        "    \"reply\": \"higgs-reply_network.edgelist\",\n",
        "    \"mention\": \"higgs-mention_network.edgelist\",\n",
        "}\n",
        "activity_path = base_path + \"higgs-activity_time.txt\"\n",
        "\n",
        "# Read files into DataFrames\n",
        "network_dfs = {}\n",
        "for edge_type, filename in file_paths.items():\n",
        "    path = base_path + filename\n",
        "    if edge_type == \"follow\":\n",
        "        network_dfs[edge_type] = pd.read_csv(path, sep='\\s+', header=None, names=[\"userA\", \"userB\"])\n",
        "    else:\n",
        "        network_dfs[edge_type] = pd.read_csv(path, sep='\\s+', header=None, names=[\"userA\", \"userB\", \"weight\"])\n",
        "\n",
        "activity_df = pd.read_csv(activity_path, sep='\\s+', header=None, names=[\"userA\", \"userB\", \"timestamp\", \"interaction\"])\n",
        "\n",
        "# ========== Step 2: Create Unified Directed Graph ==========\n",
        "\n",
        "influence_graph = nx.DiGraph()\n",
        "\n",
        "# Add edges from all networks\n",
        "for edge_type, df in network_dfs.items():\n",
        "    for _, row in df.iterrows():\n",
        "        u, v = row[\"userA\"], row[\"userB\"]\n",
        "        weight = row[\"weight\"] if \"weight\" in row else None\n",
        "\n",
        "        if influence_graph.has_edge(u, v):\n",
        "            # Merge multiple edge types\n",
        "            existing_types = set(influence_graph[u][v].get(\"edge_type\", \"\").split(\"+\"))\n",
        "            existing_types.add(edge_type)\n",
        "            influence_graph[u][v][\"edge_type\"] = \"+\".join(sorted(t for t in existing_types if t))\n",
        "        else:\n",
        "            influence_graph.add_edge(u, v, edge_type=edge_type)\n",
        "\n",
        "        # Store per-type weight dictionary\n",
        "        if weight is not None:\n",
        "            if \"weights\" not in influence_graph[u][v]:\n",
        "                influence_graph[u][v][\"weights\"] = {}\n",
        "            influence_graph[u][v][\"weights\"][edge_type] = weight\n",
        "\n",
        "\n",
        "# ========== Step 3: Add Timestamps from Activity File ==========\n",
        "\n",
        "for _, row in activity_df.iterrows():\n",
        "    u, v, ts, interaction = row[\"userA\"], row[\"userB\"], row[\"timestamp\"], row[\"interaction\"]\n",
        "\n",
        "    if not influence_graph.has_edge(u, v):\n",
        "        influence_graph.add_edge(u, v, edge_type=interaction, timestamps=[(ts, interaction)])\n",
        "    else:\n",
        "        edge_data = influence_graph[u][v]\n",
        "        if \"timestamps\" not in edge_data:\n",
        "            edge_data[\"timestamps\"] = []\n",
        "        edge_data[\"timestamps\"].append((ts, interaction))\n",
        "\n",
        "# ========== Step 4: Summary ==========\n",
        "\n",
        "print(\"✅ Unified graph created.\")\n",
        "print(f\"Number of nodes: {influence_graph.number_of_nodes()}\")\n",
        "print(f\"Number of edges: {influence_graph.number_of_edges()}\\n\")\n",
        "\n",
        "print(\"📌 Sample edges with attributes:\")\n",
        "for u, v, data in list(influence_graph.edges(data=True))[:5]:\n",
        "    print(f\"{u} -> {v} | {data}\")"
      ]
    },
    {
      "cell_type": "code",
      "execution_count": null,
      "metadata": {
        "colab": {
          "base_uri": "https://localhost:8080/"
        },
        "id": "zuH8s4eAUhLn",
        "outputId": "58cc7fd7-850b-46c3-afe3-c695e66a2df5"
      },
      "outputs": [
        {
          "name": "stdout",
          "output_type": "stream",
          "text": [
            "✅ Graph saved successfully to: /content/drive/MyDrive/SNS/models/influence_graph.pkl\n"
          ]
        }
      ],
      "source": [
        "# ========== ✅ SAVE THE GRAPH ==========\n",
        "import pickle\n",
        "\n",
        "save_path = \"/content/drive/MyDrive/SNS/models/influence_graph.pkl\"\n",
        "\n",
        "with open(save_path, \"wb\") as f:\n",
        "    pickle.dump(influence_graph, f)\n",
        "\n",
        "print(f\"✅ Graph saved successfully to: {save_path}\")\n",
        "\n",
        "# ========== ✅ SAVE THE GRAPH =========="
      ]
    },
    {
      "cell_type": "code",
      "execution_count": null,
      "metadata": {
        "colab": {
          "base_uri": "https://localhost:8080/"
        },
        "id": "q4Jr17sgsna5",
        "outputId": "35f6cc4d-1767-4ce5-8069-e4653491f476"
      },
      "outputs": [
        {
          "output_type": "stream",
          "name": "stdout",
          "text": [
            "✅ Graph loaded successfully from: /content/drive/MyDrive/SNS/models/influence_graph.pkl\n",
            "📊 Number of nodes: 456626\n",
            "🔗 Number of edges: 15056959\n"
          ]
        }
      ],
      "source": [
        "import pickle\n",
        "import networkx as nx  # Make sure NetworkX is available\n",
        "\n",
        "load_path = \"/content/drive/MyDrive/SNS/models/influence_graph.pkl\"\n",
        "\n",
        "with open(load_path, \"rb\") as f:\n",
        "    influence_graph = pickle.load(f)\n",
        "\n",
        "print(f\"✅ Graph loaded successfully from: {load_path}\")\n",
        "print(f\"📊 Number of nodes: {influence_graph.number_of_nodes()}\")\n",
        "print(f\"🔗 Number of edges: {influence_graph.number_of_edges()}\")"
      ]
    },
    {
      "cell_type": "code",
      "source": [
        "from google.colab import files\n",
        "\n",
        "files.download(\"/content/drive/MyDrive/SNS/models/influence_graph.pkl\")\n",
        "#toufeeq can u see? yes"
      ],
      "metadata": {
        "id": "cn0sbTjtI8m7",
        "colab": {
          "base_uri": "https://localhost:8080/",
          "height": 17
        },
        "outputId": "f22ec6da-2710-4c77-ac15-6e432a829b01"
      },
      "execution_count": null,
      "outputs": [
        {
          "output_type": "display_data",
          "data": {
            "text/plain": [
              "<IPython.core.display.Javascript object>"
            ],
            "application/javascript": [
              "\n",
              "    async function download(id, filename, size) {\n",
              "      if (!google.colab.kernel.accessAllowed) {\n",
              "        return;\n",
              "      }\n",
              "      const div = document.createElement('div');\n",
              "      const label = document.createElement('label');\n",
              "      label.textContent = `Downloading \"${filename}\": `;\n",
              "      div.appendChild(label);\n",
              "      const progress = document.createElement('progress');\n",
              "      progress.max = size;\n",
              "      div.appendChild(progress);\n",
              "      document.body.appendChild(div);\n",
              "\n",
              "      const buffers = [];\n",
              "      let downloaded = 0;\n",
              "\n",
              "      const channel = await google.colab.kernel.comms.open(id);\n",
              "      // Send a message to notify the kernel that we're ready.\n",
              "      channel.send({})\n",
              "\n",
              "      for await (const message of channel.messages) {\n",
              "        // Send a message to notify the kernel that we're ready.\n",
              "        channel.send({})\n",
              "        if (message.buffers) {\n",
              "          for (const buffer of message.buffers) {\n",
              "            buffers.push(buffer);\n",
              "            downloaded += buffer.byteLength;\n",
              "            progress.value = downloaded;\n",
              "          }\n",
              "        }\n",
              "      }\n",
              "      const blob = new Blob(buffers, {type: 'application/binary'});\n",
              "      const a = document.createElement('a');\n",
              "      a.href = window.URL.createObjectURL(blob);\n",
              "      a.download = filename;\n",
              "      div.appendChild(a);\n",
              "      a.click();\n",
              "      div.remove();\n",
              "    }\n",
              "  "
            ]
          },
          "metadata": {}
        },
        {
          "output_type": "display_data",
          "data": {
            "text/plain": [
              "<IPython.core.display.Javascript object>"
            ],
            "application/javascript": [
              "download(\"download_f38deb14-f6d9-4890-b6d9-108bce67bca1\", \"influence_graph.pkl\", 885064465)"
            ]
          },
          "metadata": {}
        }
      ]
    },
    {
      "cell_type": "markdown",
      "metadata": {
        "id": "m5k1GYnj2gVX"
      },
      "source": [
        "Stage 2"
      ]
    },
    {
      "cell_type": "code",
      "execution_count": null,
      "metadata": {
        "colab": {
          "base_uri": "https://localhost:8080/"
        },
        "id": "V7Z7qkvS2hOd",
        "outputId": "00faa761-cf32-4c9c-ba44-ec0fe5efcda3"
      },
      "outputs": [
        {
          "name": "stdout",
          "output_type": "stream",
          "text": [
            "✅ Node features extracted.\n",
            "   user_id  num_retweets  num_replies  num_mentions  first_activity_time  \\\n",
            "0   223789             3            2             7         1.341101e+09   \n",
            "1   213163             4            8            21         1.341106e+09   \n",
            "2   376989             4            0             1         1.341101e+09   \n",
            "3    50329            28            0            22                  inf   \n",
            "4    26375             1            0             3         1.341101e+09   \n",
            "\n",
            "   last_activity_time  follower_in_degree  follower_out_degree  \\\n",
            "0        1.341488e+09                  37                   33   \n",
            "1        1.341486e+09                  12                   51   \n",
            "2        1.341607e+09                   1                   23   \n",
            "3                -inf                 633                   56   \n",
            "4        1.341490e+09                  57                   90   \n",
            "\n",
            "   retweet_in_degree  retweet_out_degree  reply_in_degree  reply_out_degree  \\\n",
            "0                  0                   3                0                 2   \n",
            "1                  0                   4                2                 5   \n",
            "2                  0                   4                0                 0   \n",
            "3                 26                   0                0                 0   \n",
            "4                  0                   1                0                 0   \n",
            "\n",
            "   mention_in_degree  mention_out_degree  time_since_first_exposure  \n",
            "0                  3                   4                        0.0  \n",
            "1                  3                  13                     4794.0  \n",
            "2                  0                   1                      209.0  \n",
            "3                 22                   0                        inf  \n",
            "4                  2                   1                      211.0  \n"
          ]
        }
      ],
      "source": [
        "from collections import defaultdict\n",
        "import pandas as pd\n",
        "\n",
        "# ========== Stage 2: Feature Engineering ==========\n",
        "\n",
        "# Step 1: Initialize feature dictionary for each user\n",
        "user_features = defaultdict(lambda: {\n",
        "    'num_retweets': 0,\n",
        "    'num_replies': 0,\n",
        "    'num_mentions': 0,\n",
        "    'first_activity_time': float('inf'),\n",
        "    'last_activity_time': float('-inf'),\n",
        "\n",
        "    'follower_in_degree': 0,\n",
        "    'follower_out_degree': 0,\n",
        "\n",
        "    'retweet_in_degree': 0,\n",
        "    'retweet_out_degree': 0,\n",
        "\n",
        "    'reply_in_degree': 0,\n",
        "    'reply_out_degree': 0,\n",
        "\n",
        "    'mention_in_degree': 0,\n",
        "    'mention_out_degree': 0,\n",
        "})\n",
        "\n",
        "# Step 2: Count interactions and track activity times\n",
        "for _, row in activity_df.iterrows():\n",
        "    userA, userB, timestamp, interaction = row[\"userA\"], row[\"userB\"], row[\"timestamp\"], row[\"interaction\"]\n",
        "\n",
        "    # Update activity timestamps\n",
        "    user_features[userA]['first_activity_time'] = min(user_features[userA]['first_activity_time'], timestamp)\n",
        "    user_features[userA]['last_activity_time'] = max(user_features[userA]['last_activity_time'], timestamp)\n",
        "\n",
        "    # Count interactions (both users involved)\n",
        "    if interaction == \"RT\":\n",
        "        user_features[userA]['num_retweets'] += 1\n",
        "        user_features[userB]['num_retweets'] += 1\n",
        "    elif interaction == \"RE\":\n",
        "        user_features[userA]['num_replies'] += 1\n",
        "        user_features[userB]['num_replies'] += 1\n",
        "    elif interaction == \"MT\":\n",
        "        user_features[userA]['num_mentions'] += 1\n",
        "        user_features[userB]['num_mentions'] += 1\n",
        "\n",
        "# Step 3: Add in-degrees and out-degrees from graph structure\n",
        "\n",
        "# Follower degree from raw graph structure\n",
        "for user in influence_graph.nodes():\n",
        "    user_features[user]['follower_in_degree'] = influence_graph.in_degree(user)\n",
        "    user_features[user]['follower_out_degree'] = influence_graph.out_degree(user)\n",
        "\n",
        "# Parse multi-type edge labels correctly\n",
        "for u, v, data in influence_graph.edges(data=True):\n",
        "    edge_types = data.get('edge_type', '').split('+')  # Handles \"retweet+reply\"\n",
        "    for edge_type in edge_types:\n",
        "        if edge_type == 'retweet':\n",
        "            user_features[u]['retweet_out_degree'] += 1\n",
        "            user_features[v]['retweet_in_degree'] += 1\n",
        "        elif edge_type == 'reply':\n",
        "            user_features[u]['reply_out_degree'] += 1\n",
        "            user_features[v]['reply_in_degree'] += 1\n",
        "        elif edge_type == 'mention':\n",
        "            user_features[u]['mention_out_degree'] += 1\n",
        "            user_features[v]['mention_in_degree'] += 1\n",
        "\n",
        "# Step 4: Time since first exposure\n",
        "min_ts = activity_df[\"timestamp\"].min()\n",
        "for user in user_features:\n",
        "    user_features[user]['time_since_first_exposure'] = user_features[user]['first_activity_time'] - min_ts\n",
        "\n",
        "# Step 5: Convert to DataFrame\n",
        "features_df = pd.DataFrame.from_dict(user_features, orient=\"index\")\n",
        "features_df.index.name = \"user_id\"\n",
        "features_df.reset_index(inplace=True)\n",
        "\n",
        "print(\"✅ Node features extracted.\")\n",
        "print(features_df.head())\n"
      ]
    },
    {
      "cell_type": "code",
      "execution_count": null,
      "metadata": {
        "id": "RCrxEk4fXmKH"
      },
      "outputs": [],
      "source": [
        "# ========== ✅ SAVE FEATURES ==========\n",
        "features_save_path = \"/content/drive/MyDrive/SNS/models/features.csv\"\n",
        "\n",
        "# Save DataFrame to CSV\n",
        "features_df.to_csv(features_save_path, index=False)\n",
        "\n",
        "# ========== ✅ SAVE FEATURES =========="
      ]
    },
    {
      "cell_type": "code",
      "execution_count": null,
      "metadata": {
        "id": "-_E-uMlnc03M"
      },
      "outputs": [],
      "source": [
        "features_load_path = \"/content/drive/MyDrive/SNS/models/features.csv\"\n",
        "\n",
        "# Step 3: Load the CSV into a DataFrame\n",
        "features_df = pd.read_csv(features_load_path)"
      ]
    },
    {
      "cell_type": "code",
      "source": [
        "from google.colab import files\n",
        "\n",
        "# Download the CSV file to your local machine\n",
        "files.download(\"/content/drive/MyDrive/SNS/models/features.csv\")\n"
      ],
      "metadata": {
        "colab": {
          "base_uri": "https://localhost:8080/",
          "height": 17
        },
        "id": "kPoE9qu9s0tn",
        "outputId": "93aefd35-f5c2-49ef-f932-075c5f258d02"
      },
      "execution_count": null,
      "outputs": [
        {
          "output_type": "display_data",
          "data": {
            "text/plain": [
              "<IPython.core.display.Javascript object>"
            ],
            "application/javascript": [
              "\n",
              "    async function download(id, filename, size) {\n",
              "      if (!google.colab.kernel.accessAllowed) {\n",
              "        return;\n",
              "      }\n",
              "      const div = document.createElement('div');\n",
              "      const label = document.createElement('label');\n",
              "      label.textContent = `Downloading \"${filename}\": `;\n",
              "      div.appendChild(label);\n",
              "      const progress = document.createElement('progress');\n",
              "      progress.max = size;\n",
              "      div.appendChild(progress);\n",
              "      document.body.appendChild(div);\n",
              "\n",
              "      const buffers = [];\n",
              "      let downloaded = 0;\n",
              "\n",
              "      const channel = await google.colab.kernel.comms.open(id);\n",
              "      // Send a message to notify the kernel that we're ready.\n",
              "      channel.send({})\n",
              "\n",
              "      for await (const message of channel.messages) {\n",
              "        // Send a message to notify the kernel that we're ready.\n",
              "        channel.send({})\n",
              "        if (message.buffers) {\n",
              "          for (const buffer of message.buffers) {\n",
              "            buffers.push(buffer);\n",
              "            downloaded += buffer.byteLength;\n",
              "            progress.value = downloaded;\n",
              "          }\n",
              "        }\n",
              "      }\n",
              "      const blob = new Blob(buffers, {type: 'application/binary'});\n",
              "      const a = document.createElement('a');\n",
              "      a.href = window.URL.createObjectURL(blob);\n",
              "      a.download = filename;\n",
              "      div.appendChild(a);\n",
              "      a.click();\n",
              "      div.remove();\n",
              "    }\n",
              "  "
            ]
          },
          "metadata": {}
        },
        {
          "output_type": "display_data",
          "data": {
            "text/plain": [
              "<IPython.core.display.Javascript object>"
            ],
            "application/javascript": [
              "download(\"download_197244d2-4c7a-4a43-81e2-9f5e9bf65e18\", \"features.csv\", 25728340)"
            ]
          },
          "metadata": {}
        }
      ]
    },
    {
      "cell_type": "markdown",
      "metadata": {
        "id": "1kNUEvID2kxA"
      },
      "source": [
        "Adding Node feature to the graph"
      ]
    },
    {
      "cell_type": "code",
      "execution_count": null,
      "metadata": {
        "colab": {
          "base_uri": "https://localhost:8080/"
        },
        "id": "SgKM3Xha2lft",
        "outputId": "77314cd5-8e06-4997-bc5a-127544c5aa16"
      },
      "outputs": [
        {
          "output_type": "stream",
          "name": "stdout",
          "text": [
            "✅ Final influence_graph with features\n",
            "Number of nodes: 456626\n",
            "Number of edges: 15508209\n"
          ]
        }
      ],
      "source": [
        "# Step 1: Add node features to influence_graph\n",
        "for _, row in features_df.iterrows():\n",
        "    user = int(row[\"user_id\"])\n",
        "    features = row.drop(\"user_id\")\n",
        "    if not influence_graph.has_node(user):\n",
        "        influence_graph.add_node(user)\n",
        "    influence_graph.nodes[user].update(features.to_dict())\n",
        "\n",
        "# Step 2: Add missing self-loops only\n",
        "for node in influence_graph.nodes:\n",
        "    if not influence_graph.has_edge(node, node):\n",
        "        influence_graph.add_edge(node, node, edge_type=\"self_loop\", is_synthetic=True)\n",
        "\n",
        "\n",
        "print(\"✅ Final influence_graph with features\")\n",
        "print(f\"Number of nodes: {influence_graph.number_of_nodes()}\")\n",
        "print(f\"Number of edges: {influence_graph.number_of_edges()}\")\n",
        "\n"
      ]
    },
    {
      "cell_type": "markdown",
      "source": [
        "#Stage 3#"
      ],
      "metadata": {
        "id": "erN5LxSEhdmO"
      }
    },
    {
      "cell_type": "markdown",
      "metadata": {
        "id": "F4DhqL97B4L9"
      },
      "source": [
        "#  ( Influential Score for Rule Based prediction + for the model)"
      ]
    },
    {
      "cell_type": "code",
      "execution_count": null,
      "metadata": {
        "id": "r6OJ6uzOgQde"
      },
      "outputs": [],
      "source": [
        "from collections import defaultdict\n",
        "from tqdm import tqdm\n",
        "\n",
        "def compute_time_respecting_influence(graph, follow_weight=0.2, damping=0.5):\n",
        "    influence_scores = defaultdict(float)\n",
        "\n",
        "    # Store tweet times for each node\n",
        "    node_timestamps = defaultdict(list)\n",
        "\n",
        "    print(\"Recording timestamps from interactions...\")\n",
        "    # First pass: record all user timestamps from interactions\n",
        "    for u, v, data in tqdm(graph.edges(data=True), desc=\"Collecting timestamps\"):\n",
        "        if data.get(\"edge_type\") != \"follow\":\n",
        "            timestamps = data.get(\"timestamps\", [])\n",
        "            for ts, _ in timestamps:\n",
        "                node_timestamps[u].append(ts)\n",
        "\n",
        "    # Sort timestamps for each node\n",
        "    for node in node_timestamps:\n",
        "        node_timestamps[node] = sorted(node_timestamps[node])\n",
        "\n",
        "    print(\"Computing 1-hop time-respecting influence...\")\n",
        "    # 1-hop influence (time-aware)\n",
        "    for u, v, data in tqdm(graph.edges(data=True), desc=\"1-hop influence\"):\n",
        "        edge_type = data.get(\"edge_type\")\n",
        "        if edge_type == \"follow\":\n",
        "            influence_scores[u] += follow_weight\n",
        "        else:\n",
        "            timestamps = data.get(\"timestamps\", [])\n",
        "            for ts, _ in timestamps:\n",
        "                if ts in node_timestamps[u] and (\n",
        "                    not node_timestamps[v] or ts < min(node_timestamps[v])\n",
        "                ):\n",
        "                    influence_scores[u] += data.get(\"weight\", 1.0)\n",
        "\n",
        "    print(\"Computing 2-hop time-respecting influence with damping...\")\n",
        "    # 2-hop influence with damping (time-aware)\n",
        "    for u in tqdm(graph.nodes(), desc=\"2-hop influence\"):\n",
        "        for v in graph.successors(u):\n",
        "            edge_data_uv = graph.get_edge_data(u, v)\n",
        "            ts_uv_valid = []\n",
        "\n",
        "            # Collect valid (u→v) time-respecting timestamps\n",
        "            if edge_data_uv and edge_data_uv.get(\"edge_type\") != \"follow\":\n",
        "                for ts, _ in edge_data_uv.get(\"timestamps\", []):\n",
        "                    if ts in node_timestamps[u] and (\n",
        "                        not node_timestamps[v] or ts < min(node_timestamps[v])\n",
        "                    ):\n",
        "                        ts_uv_valid.append(ts)\n",
        "\n",
        "            weight_uv = len(ts_uv_valid) * edge_data_uv.get(\"weight\", 1.0) if ts_uv_valid else 0\n",
        "\n",
        "            # Now find v→w 2-hop edges\n",
        "            for w in graph.successors(v):\n",
        "                if w == u:\n",
        "                    continue  # avoid cycles\n",
        "                edge_data_vw = graph.get_edge_data(v, w)\n",
        "                ts_vw_valid = []\n",
        "\n",
        "                if edge_data_vw and edge_data_vw.get(\"edge_type\") != \"follow\":\n",
        "                    for ts, _ in edge_data_vw.get(\"timestamps\", []):\n",
        "                        if ts in node_timestamps[v] and (\n",
        "                            not node_timestamps[w] or ts < min(node_timestamps[w])\n",
        "                        ):\n",
        "                            ts_vw_valid.append(ts)\n",
        "\n",
        "                weight_vw = len(ts_vw_valid) * edge_data_vw.get(\"weight\", 1.0) if ts_vw_valid else 0\n",
        "\n",
        "                # Add damped 2-hop score\n",
        "                influence_scores[u] += damping * weight_uv * weight_vw\n",
        "\n",
        "    print(\"Assigning influence scores to graph nodes...\")\n",
        "    for node in tqdm(graph.nodes(), desc=\"Assigning influence scores\"):\n",
        "        graph.nodes[node][\"influence_score\"] = round(influence_scores.get(node, 0.0), 3)\n",
        "\n",
        "    return dict(influence_scores)"
      ]
    },
    {
      "cell_type": "code",
      "execution_count": null,
      "metadata": {
        "colab": {
          "base_uri": "https://localhost:8080/"
        },
        "id": "dXRofzHPgJUM",
        "outputId": "0a593f36-2afd-468a-f299-c45c6a21f1c4"
      },
      "outputs": [
        {
          "output_type": "stream",
          "name": "stdout",
          "text": [
            "Recording timestamps from interactions...\n"
          ]
        },
        {
          "output_type": "stream",
          "name": "stderr",
          "text": [
            "Collecting timestamps: 100%|██████████| 15508209/15508209 [00:08<00:00, 1904101.40it/s]\n"
          ]
        },
        {
          "output_type": "stream",
          "name": "stdout",
          "text": [
            "Computing 1-hop time-respecting influence...\n"
          ]
        },
        {
          "output_type": "stream",
          "name": "stderr",
          "text": [
            "1-hop influence: 100%|██████████| 15508209/15508209 [00:07<00:00, 2075382.19it/s]\n"
          ]
        },
        {
          "output_type": "stream",
          "name": "stdout",
          "text": [
            "Computing 2-hop time-respecting influence with damping...\n"
          ]
        },
        {
          "output_type": "stream",
          "name": "stderr",
          "text": [
            "2-hop influence: 100%|██████████| 456626/456626 [13:40<00:00, 556.31it/s] \n"
          ]
        },
        {
          "output_type": "stream",
          "name": "stdout",
          "text": [
            "Assigning influence scores to graph nodes...\n"
          ]
        },
        {
          "output_type": "stream",
          "name": "stderr",
          "text": [
            "Assigning influence scores: 100%|██████████| 456626/456626 [00:00<00:00, 771326.45it/s]\n"
          ]
        }
      ],
      "source": [
        "influence_scores = compute_time_respecting_influence(influence_graph)"
      ]
    },
    {
      "cell_type": "code",
      "source": [
        "# ========== ✅ SAVE THE INFLUENCE_GRAPH ==========\n",
        "import pickle\n",
        "\n",
        "graph_save_path = \"/content/drive/MyDrive/SNS/models/prefinal_influence_graph.pkl\"\n",
        "\n",
        "with open(graph_save_path, 'wb') as f:\n",
        "    pickle.dump(influence_graph, f)\n",
        "\n",
        "print(f\"✅ Influence graph with scores and labels saved to: {graph_save_path}\")\n",
        "# ========== ✅ SAVE THE  INFLUENCE_GRAPh =========="
      ],
      "metadata": {
        "id": "g9EozbWOJ3H_",
        "colab": {
          "base_uri": "https://localhost:8080/"
        },
        "outputId": "545893a3-d778-4471-d543-5e764e9b379c"
      },
      "execution_count": null,
      "outputs": [
        {
          "output_type": "stream",
          "name": "stdout",
          "text": [
            "✅ Influence graph with scores and labels saved to: /content/drive/MyDrive/SNS/models/final_influence_graph.pkl\n"
          ]
        }
      ]
    },
    {
      "cell_type": "code",
      "source": [
        "# Path to the saved influence graph\n",
        "graph_load_path = \"/content/drive/MyDrive/SNS/models/prefinal_influence_graph.pkl\"\n",
        "\n",
        "# Load the graph\n",
        "with open(graph_load_path, 'rb') as f:\n",
        "    final_influence_graph = pickle.load(f)\n",
        "\n",
        "print(\"✅ Influence graph loaded successfully!\")"
      ],
      "metadata": {
        "colab": {
          "base_uri": "https://localhost:8080/"
        },
        "id": "_lDPYRihslLm",
        "outputId": "8078a7c9-8e17-434a-ebfe-cd677ac7cccc"
      },
      "execution_count": null,
      "outputs": [
        {
          "output_type": "stream",
          "name": "stdout",
          "text": [
            "✅ Influence graph loaded successfully!\n"
          ]
        }
      ]
    },
    {
      "cell_type": "code",
      "source": [
        "from google.colab import files\n",
        "\n",
        "# Download the pickle file to your local machine\n",
        "files.download(\"/content/drive/MyDrive/SNS/models/prefinal_influence_graph.pkl\")\n"
      ],
      "metadata": {
        "colab": {
          "base_uri": "https://localhost:8080/",
          "height": 17
        },
        "id": "NUAhHiWmtCFH",
        "outputId": "c8ebdb7c-f456-469e-8da6-3635534b17b1"
      },
      "execution_count": null,
      "outputs": [
        {
          "output_type": "display_data",
          "data": {
            "text/plain": [
              "<IPython.core.display.Javascript object>"
            ],
            "application/javascript": [
              "\n",
              "    async function download(id, filename, size) {\n",
              "      if (!google.colab.kernel.accessAllowed) {\n",
              "        return;\n",
              "      }\n",
              "      const div = document.createElement('div');\n",
              "      const label = document.createElement('label');\n",
              "      label.textContent = `Downloading \"${filename}\": `;\n",
              "      div.appendChild(label);\n",
              "      const progress = document.createElement('progress');\n",
              "      progress.max = size;\n",
              "      div.appendChild(progress);\n",
              "      document.body.appendChild(div);\n",
              "\n",
              "      const buffers = [];\n",
              "      let downloaded = 0;\n",
              "\n",
              "      const channel = await google.colab.kernel.comms.open(id);\n",
              "      // Send a message to notify the kernel that we're ready.\n",
              "      channel.send({})\n",
              "\n",
              "      for await (const message of channel.messages) {\n",
              "        // Send a message to notify the kernel that we're ready.\n",
              "        channel.send({})\n",
              "        if (message.buffers) {\n",
              "          for (const buffer of message.buffers) {\n",
              "            buffers.push(buffer);\n",
              "            downloaded += buffer.byteLength;\n",
              "            progress.value = downloaded;\n",
              "          }\n",
              "        }\n",
              "      }\n",
              "      const blob = new Blob(buffers, {type: 'application/binary'});\n",
              "      const a = document.createElement('a');\n",
              "      a.href = window.URL.createObjectURL(blob);\n",
              "      a.download = filename;\n",
              "      div.appendChild(a);\n",
              "      a.click();\n",
              "      div.remove();\n",
              "    }\n",
              "  "
            ]
          },
          "metadata": {}
        },
        {
          "output_type": "display_data",
          "data": {
            "text/plain": [
              "<IPython.core.display.Javascript object>"
            ],
            "application/javascript": [
              "download(\"download_cc5da09a-9677-42ad-92af-7aa1555869f9\", \"prefinal_influence_graph.pkl\", 977300540)"
            ]
          },
          "metadata": {}
        }
      ]
    },
    {
      "cell_type": "markdown",
      "metadata": {
        "id": "iV0Kc_b3rp2a"
      },
      "source": [
        "# Stage 4 Preprocessing Stage"
      ]
    },
    {
      "cell_type": "code",
      "execution_count": null,
      "metadata": {
        "id": "L39hJ7YrrpRK",
        "colab": {
          "base_uri": "https://localhost:8080/"
        },
        "outputId": "523e64c5-c1f0-4872-c7e5-f3fe6bd131fe"
      },
      "outputs": [
        {
          "output_type": "stream",
          "name": "stdout",
          "text": [
            "✅ Node and edge features cleaned and final influence graph updated in-place.\n"
          ]
        }
      ],
      "source": [
        "import numpy as np\n",
        "import pandas as pd\n",
        "from sklearn.preprocessing import StandardScaler, MultiLabelBinarizer\n",
        "\n",
        "# -------- Node Features Preprocessing --------\n",
        "node_features = []\n",
        "for node, attrs in final_influence_graph.nodes(data=True):\n",
        "    row = {\"user_id\": node}\n",
        "    row.update(attrs)\n",
        "    node_features.append(row)\n",
        "\n",
        "features_df = pd.DataFrame(node_features)\n",
        "\n",
        "features_df.replace([np.inf, -np.inf], np.nan, inplace=True)\n",
        "features_df.fillna(features_df.median(), inplace=True)\n",
        "\n",
        "numeric_cols = features_df.columns.difference(['user_id'])\n",
        "scaler = StandardScaler()\n",
        "features_df[numeric_cols] = scaler.fit_transform(features_df[numeric_cols])\n",
        "\n",
        "for _, row in features_df.iterrows():\n",
        "    user = int(row[\"user_id\"])\n",
        "    features = row.drop(\"user_id\").to_dict()\n",
        "    if not final_influence_graph.has_node(user):\n",
        "        final_influence_graph.add_node(user)\n",
        "    final_influence_graph.nodes[user].update(features)\n",
        "\n",
        "# -------- Edge Features Preprocessing --------\n",
        "\n",
        "edge_data_list = []\n",
        "\n",
        "\n",
        "possible_edge_types = ['follow', 'mention', 'reply', 'retweet', 'self_loop']\n",
        "mlb = MultiLabelBinarizer(classes=possible_edge_types)\n",
        "\n",
        "\n",
        "all_edge_type_sets = []\n",
        "for _, _, edge_attrs in final_influence_graph.edges(data=True):\n",
        "    edge_type_str = edge_attrs.get('edge_type', '')\n",
        "    edge_type_set = edge_type_str.split('+') if edge_type_str else []\n",
        "    all_edge_type_sets.append(edge_type_set)\n",
        "\n",
        "mlb.fit(all_edge_type_sets)  # Fit once here\n",
        "\n",
        "for u, v, edge_attrs in final_influence_graph.edges(data=True):\n",
        "\n",
        "    edge_type_str = edge_attrs.get('edge_type', '')\n",
        "    edge_type_set = edge_type_str.split('+') if edge_type_str else []\n",
        "\n",
        "    # Multi-hot encode edge_type using transform only\n",
        "    edge_type_encoded = mlb.transform([edge_type_set])[0]  # e.g. [1,1,0,1,0]\n",
        "\n",
        "    # Extract weights for known types (default 0 if missing)\n",
        "    weights = edge_attrs.get('weights', {})\n",
        "    weight_retweet = weights.get('retweet', 0)\n",
        "    weight_reply = weights.get('reply', 0)\n",
        "    weight_mention = weights.get('mention', 0)\n",
        "    weight_follow = 1 if 'follow' in edge_type_set else 0  # fallback binary indicator\n",
        "\n",
        "    # Timestamps: Optional feature, e.g. total events or recency (latest timestamp)\n",
        "    timestamps = edge_attrs.get('timestamps', [])\n",
        "    timestamp_count = len(timestamps)\n",
        "    latest_timestamp = max([t[0] for t in timestamps], default=0)\n",
        "\n",
        "    # Combine features into a vector\n",
        "    edge_feature_vector = np.array([\n",
        "        *edge_type_encoded,\n",
        "        weight_retweet,\n",
        "        weight_reply,\n",
        "        weight_mention,\n",
        "        weight_follow,\n",
        "        timestamp_count,\n",
        "        latest_timestamp\n",
        "    ], dtype=np.float32)\n",
        "\n",
        "    edge_data_list.append(((u, v), edge_feature_vector))\n",
        "\n",
        "# Create dataframe for edges\n",
        "edges_df = pd.DataFrame([\n",
        "    {\n",
        "        'source': uv[0],\n",
        "        'target': uv[1],\n",
        "        **{f'feat_{i}': vec[i] for i in range(len(vec))}\n",
        "    }\n",
        "    for uv, vec in edge_data_list\n",
        "])\n",
        "\n",
        "# Normalize edge features (excluding source and target)\n",
        "edge_feature_cols = edges_df.columns.difference(['source', 'target'])\n",
        "edges_df[edge_feature_cols] = StandardScaler().fit_transform(edges_df[edge_feature_cols])\n",
        "\n",
        "# Update graph edges with processed features\n",
        "for _, row in edges_df.iterrows():\n",
        "    u = int(row['source'])\n",
        "    v = int(row['target'])\n",
        "    features = row[edge_feature_cols].to_dict()\n",
        "    if final_influence_graph.has_edge(u, v):\n",
        "        final_influence_graph.edges[u, v].update(features)\n",
        "\n",
        "# -------- Self-loops (if needed) --------\n",
        "for node in final_influence_graph.nodes:\n",
        "    if not final_influence_graph.has_edge(node, node):\n",
        "        final_influence_graph.add_edge(node, node, edge_type=\"self_loop\", is_synthetic=True)\n",
        "\n",
        "print(\"✅ Node and edge features cleaned and final influence graph updated in-place.\")\n"
      ]
    },
    {
      "cell_type": "code",
      "source": [
        "import pickle\n",
        "\n",
        "save_path = \"/content/drive/MyDrive/SNS/models/final_influence_graph.pkl\"\n",
        "\n",
        "with open(save_path, \"wb\") as f:\n",
        "    pickle.dump(final_influence_graph, f)\n",
        "\n",
        "print(f\"✅ Final influence graph saved to: {save_path}\")\n"
      ],
      "metadata": {
        "id": "vyiAuSGBOlhg",
        "colab": {
          "base_uri": "https://localhost:8080/"
        },
        "outputId": "7eac131a-a06b-492f-9753-97324e0d698c"
      },
      "execution_count": null,
      "outputs": [
        {
          "output_type": "stream",
          "name": "stdout",
          "text": [
            "✅ Final influence graph saved to: /content/drive/MyDrive/SNS/models/final_influence_graph.pkl\n"
          ]
        }
      ]
    },
    {
      "cell_type": "code",
      "source": [
        "import pickle\n",
        "import networkx as nx  # Make sure NetworkX is imported\n",
        "\n",
        "load_path = \"/content/drive/MyDrive/SNS/models/final_influence_graph.pkl\"\n",
        "\n",
        "with open(load_path, \"rb\") as f:\n",
        "    final_influence_graph = pickle.load(f)\n",
        "\n",
        "print(f\"✅ Final influence graph loaded from: {load_path}\")\n",
        "print(f\"📊 Number of nodes: {final_influence_graph.number_of_nodes()}\")\n",
        "print(f\"🔗 Number of edges: {final_influence_graph.number_of_edges()}\")\n"
      ],
      "metadata": {
        "colab": {
          "base_uri": "https://localhost:8080/"
        },
        "id": "4GM-oh_M-AZ5",
        "outputId": "aaf9ac29-cbc6-41f0-ea7a-68f443114fa1"
      },
      "execution_count": null,
      "outputs": [
        {
          "output_type": "stream",
          "name": "stdout",
          "text": [
            "✅ Final influence graph loaded from: /content/drive/MyDrive/SNS/models/final_influence_graph.pkl\n",
            "📊 Number of nodes: 456626\n",
            "🔗 Number of edges: 15508209\n"
          ]
        }
      ]
    },
    {
      "cell_type": "markdown",
      "metadata": {
        "id": "Pcx3wzEvo6nx"
      },
      "source": [
        "# For Visualization"
      ]
    },
    {
      "cell_type": "code",
      "execution_count": null,
      "metadata": {
        "colab": {
          "base_uri": "https://localhost:8080/"
        },
        "id": "6pyYYxP8onfP",
        "outputId": "18c40ac3-5b17-4bdb-bdcb-79161416a8a1"
      },
      "outputs": [
        {
          "name": "stdout",
          "output_type": "stream",
          "text": [
            "📌 Sample nodes with features:\n",
            "User 1 -> {'num_retweets': -0.04220282073206717, 'num_replies': -0.05320012914591608, 'num_mentions': -0.028789959767869633, 'first_activity_time': -0.12443819580434229, 'last_activity_time': -0.2143717749391989, 'follower_in_degree': 45.71020800453062, 'follower_out_degree': -0.22281357976288657, 'retweet_in_degree': -0.0246269260438008, 'retweet_out_degree': -0.5944333502446945, 'reply_in_degree': -0.027290551555087524, 'reply_out_degree': -0.20245574054551993, 'mention_in_degree': -0.016175771316372285, 'mention_out_degree': -0.3552926759820181, 'time_since_first_exposure': -0.1244381958026153}\n",
            "User 2 -> {'num_retweets': -0.015055347681605245, 'num_replies': 0.27594953986095444, 'num_mentions': 0.047982257503883775, 'first_activity_time': 4.002910397779825, 'last_activity_time': 3.6808911878020534, 'follower_in_degree': 13.150141344207015, 'follower_out_degree': 0.8938551959192882, 'retweet_in_degree': -0.0246269260438008, 'retweet_out_degree': 0.2327755869782337, 'reply_in_degree': 0.35587137675390595, 'reply_out_degree': -0.20245574054551993, 'mention_in_degree': 0.08177378050250625, 'mention_out_degree': -0.3552926759820181, 'time_since_first_exposure': 4.002910397781552}\n",
            "User 3 -> {'num_retweets': -0.015055347681605245, 'num_replies': -0.05320012914591608, 'num_mentions': -0.028789959767869633, 'first_activity_time': -0.3142402117529788, 'last_activity_time': -0.5741619208602533, 'follower_in_degree': 0.2926709702608598, 'follower_out_degree': -0.16190437381658612, 'retweet_in_degree': -0.0246269260438008, 'retweet_out_degree': 0.2327755869782337, 'reply_in_degree': -0.027290551555087524, 'reply_out_degree': -0.20245574054551993, 'mention_in_degree': -0.016175771316372285, 'mention_out_degree': -0.3552926759820181, 'time_since_first_exposure': -0.3142402117512518}\n",
            "User 4 -> {'num_retweets': 2.482512172960892, 'num_replies': 1.263398546881566, 'num_mentions': 4.308840316086198, 'first_activity_time': -4.039155179758193, 'last_activity_time': -0.7237369124835493, 'follower_in_degree': 24.485534809552544, 'follower_out_degree': 7.634473987309871, 'retweet_in_degree': 2.614212609079555, 'retweet_out_degree': 3.541611335869946, 'reply_in_degree': 1.122195233371893, 'reply_out_degree': 2.640042029719787, 'mention_in_degree': 5.077200923265311, 'mention_out_degree': 6.098945152246642, 'time_since_first_exposure': -4.039155179756467}\n",
            "User 5 -> {'num_retweets': 0.6093365324790191, 'num_replies': 0.27594953986095444, 'num_mentions': 0.12475447477563718, 'first_activity_time': -0.12443819580434229, 'last_activity_time': -0.2143717749391989, 'follower_in_degree': 6.1052604215896915, 'follower_out_degree': 0.5080968915927188, 'retweet_in_degree': 0.7978685134751673, 'retweet_out_degree': -0.5944333502446945, 'reply_in_degree': 0.35587137675390595, 'reply_out_degree': -0.20245574054551993, 'mention_in_degree': 0.17972333232138477, 'mention_out_degree': -0.3552926759820181, 'time_since_first_exposure': -0.1244381958026153}\n"
          ]
        }
      ],
      "source": [
        "# Show a few nodes and their attributes\n",
        "print(\"📌 Sample nodes with features:\")\n",
        "for node, data in list(final_influence_graph.nodes(data=True))[:5]:  # first 5 nodes\n",
        "    print(f\"User {node} -> {data}\")\n"
      ]
    },
    {
      "cell_type": "code",
      "execution_count": null,
      "metadata": {
        "colab": {
          "base_uri": "https://localhost:8080/",
          "height": 610
        },
        "id": "P2XsBIAupXzw",
        "outputId": "de50c5df-c74a-4500-d7a5-d61022413bb1"
      },
      "outputs": [
        {
          "data": {
            "image/png": "[encoded data removed]",
            "text/plain": [
              "<Figure size 1000x600 with 1 Axes>"
            ]
          },
          "metadata": {},
          "output_type": "display_data"
        }
      ],
      "source": [
        "import matplotlib.pyplot as plt\n",
        "\n",
        "# Draw a subgraph of the first 20 nodes\n",
        "sub_nodes = list(influence_graph.nodes)[:20]\n",
        "subgraph = final_influence_graph.subgraph(sub_nodes)\n",
        "\n",
        "plt.figure(figsize=(10, 6))\n",
        "nx.draw(subgraph, with_labels=True, node_size=500, font_size=8, arrows=True)\n",
        "plt.title(\"Small Subgraph from Influence Graph\")\n",
        "plt.show()"
      ]
    },
    {
      "cell_type": "code",
      "execution_count": null,
      "metadata": {
        "colab": {
          "base_uri": "https://localhost:8080/"
        },
        "id": "3NQQZ4C2JCID",
        "outputId": "c4677f78-e797-4885-c7fe-0495d1f5f44e"
      },
      "outputs": [
        {
          "data": {
            "text/plain": [
              "{'edge_type': 'follow+mention+reply+retweet',\n",
              " 'weights': {'retweet': np.int64(4),\n",
              "  'reply': np.int64(1),\n",
              "  'mention': np.int64(4)},\n",
              " 'timestamps': [(1341379964, 'RT'),\n",
              "  (1341380583, 'RT'),\n",
              "  (1341381452, 'MT'),\n",
              "  (1341381452, 'RE'),\n",
              "  (1341381528, 'MT'),\n",
              "  (1341382869, 'RT'),\n",
              "  (1341384828, 'RT'),\n",
              "  (1341398113, 'MT'),\n",
              "  (1341563320, 'MT')]}"
            ]
          },
          "execution_count": 9,
          "metadata": {},
          "output_type": "execute_result"
        }
      ],
      "source": [
        "final_influence_graph.edges[46378,88]"
      ]
    },
    {
      "cell_type": "code",
      "execution_count": null,
      "metadata": {
        "colab": {
          "base_uri": "https://localhost:8080/"
        },
        "id": "hp4Gv2nup0o3",
        "outputId": "681606c6-d534-4f71-f00d-39e72f8325fe"
      },
      "outputs": [
        {
          "name": "stdout",
          "output_type": "stream",
          "text": [
            "Edge: 1 -> 2 | edge_data: {'edge_type': 'follow'}\n",
            "  Node 1 features: {'num_retweets': 0.0, 'num_replies': 0.0, 'num_mentions': 0.0, 'first_activity_time': inf, 'last_activity_time': -inf, 'follower_in_degree': 16280.0, 'follower_out_degree': 22.0, 'retweet_in_degree': 0.0, 'retweet_out_degree': 0.0, 'reply_in_degree': 0.0, 'reply_out_degree': 0.0, 'mention_in_degree': 0.0, 'mention_out_degree': 0.0, 'time_since_first_exposure': inf}\n",
            "  Node 2 features: {'num_retweets': 1.0, 'num_replies': 1.0, 'num_mentions': 2.0, 'first_activity_time': 1341674210.0, 'last_activity_time': 1341674210.0, 'follower_in_degree': 4707.0, 'follower_out_degree': 77.0, 'retweet_in_degree': 0.0, 'retweet_out_degree': 1.0, 'reply_in_degree': 1.0, 'reply_out_degree': 0.0, 'mention_in_degree': 2.0, 'mention_out_degree': 0.0, 'time_since_first_exposure': 573238.0}\n",
            "\n",
            "Edge: 1 -> 3 | edge_data: {'edge_type': 'follow'}\n",
            "  Node 1 features: {'num_retweets': 0.0, 'num_replies': 0.0, 'num_mentions': 0.0, 'first_activity_time': inf, 'last_activity_time': -inf, 'follower_in_degree': 16280.0, 'follower_out_degree': 22.0, 'retweet_in_degree': 0.0, 'retweet_out_degree': 0.0, 'reply_in_degree': 0.0, 'reply_out_degree': 0.0, 'mention_in_degree': 0.0, 'mention_out_degree': 0.0, 'time_since_first_exposure': inf}\n",
            "  Node 3 features: {'num_retweets': 1.0, 'num_replies': 0.0, 'num_mentions': 0.0, 'first_activity_time': 1341395850.0, 'last_activity_time': 1341395850.0, 'follower_in_degree': 137.0, 'follower_out_degree': 25.0, 'retweet_in_degree': 0.0, 'retweet_out_degree': 1.0, 'reply_in_degree': 0.0, 'reply_out_degree': 0.0, 'mention_in_degree': 0.0, 'mention_out_degree': 0.0, 'time_since_first_exposure': 294878.0}\n",
            "\n",
            "Edge: 1 -> 4 | edge_data: {'edge_type': 'follow'}\n",
            "  Node 1 features: {'num_retweets': 0.0, 'num_replies': 0.0, 'num_mentions': 0.0, 'first_activity_time': inf, 'last_activity_time': -inf, 'follower_in_degree': 16280.0, 'follower_out_degree': 22.0, 'retweet_in_degree': 0.0, 'retweet_out_degree': 0.0, 'reply_in_degree': 0.0, 'reply_out_degree': 0.0, 'mention_in_degree': 0.0, 'mention_out_degree': 0.0, 'time_since_first_exposure': inf}\n",
            "  Node 4 features: {'num_retweets': 93.0, 'num_replies': 4.0, 'num_mentions': 113.0, 'first_activity_time': 1341155676.0, 'last_activity_time': 1341386065.0, 'follower_in_degree': 8736.0, 'follower_out_degree': 409.0, 'retweet_in_degree': 77.0, 'retweet_out_degree': 5.0, 'reply_in_degree': 3.0, 'reply_out_degree': 1.0, 'mention_in_degree': 104.0, 'mention_out_degree': 6.0, 'time_since_first_exposure': 54704.0}\n",
            "\n",
            "Edge: 1 -> 5 | edge_data: {'edge_type': 'follow'}\n",
            "  Node 1 features: {'num_retweets': 0.0, 'num_replies': 0.0, 'num_mentions': 0.0, 'first_activity_time': inf, 'last_activity_time': -inf, 'follower_in_degree': 16280.0, 'follower_out_degree': 22.0, 'retweet_in_degree': 0.0, 'retweet_out_degree': 0.0, 'reply_in_degree': 0.0, 'reply_out_degree': 0.0, 'mention_in_degree': 0.0, 'mention_out_degree': 0.0, 'time_since_first_exposure': inf}\n",
            "  Node 5 features: {'num_retweets': 24.0, 'num_replies': 1.0, 'num_mentions': 4.0, 'first_activity_time': inf, 'last_activity_time': -inf, 'follower_in_degree': 2203.0, 'follower_out_degree': 58.0, 'retweet_in_degree': 24.0, 'retweet_out_degree': 0.0, 'reply_in_degree': 1.0, 'reply_out_degree': 0.0, 'mention_in_degree': 4.0, 'mention_out_degree': 0.0, 'time_since_first_exposure': inf}\n",
            "\n",
            "Edge: 1 -> 6 | edge_data: {'edge_type': 'follow'}\n",
            "  Node 1 features: {'num_retweets': 0.0, 'num_replies': 0.0, 'num_mentions': 0.0, 'first_activity_time': inf, 'last_activity_time': -inf, 'follower_in_degree': 16280.0, 'follower_out_degree': 22.0, 'retweet_in_degree': 0.0, 'retweet_out_degree': 0.0, 'reply_in_degree': 0.0, 'reply_out_degree': 0.0, 'mention_in_degree': 0.0, 'mention_out_degree': 0.0, 'time_since_first_exposure': inf}\n",
            "  Node 6 features: {'num_retweets': 85.0, 'num_replies': 0.0, 'num_mentions': 102.0, 'first_activity_time': 1341549069.0, 'last_activity_time': 1341549069.0, 'follower_in_degree': 27134.0, 'follower_out_degree': 101.0, 'retweet_in_degree': 83.0, 'retweet_out_degree': 0.0, 'reply_in_degree': 0.0, 'reply_out_degree': 0.0, 'mention_in_degree': 91.0, 'mention_out_degree': 1.0, 'time_since_first_exposure': 448097.0}\n",
            "\n"
          ]
        }
      ],
      "source": [
        "for u, v, edge_data in list(final_influence_graph.edges(data=True))[:5]:\n",
        "    u_features = final_influence_graph.nodes[u]\n",
        "    v_features = final_influence_graph.nodes[v]\n",
        "    print(f\"Edge: {u} -> {v} | edge_data: {edge_data}\")\n",
        "    print(f\"  Node {u} features: {u_features}\")\n",
        "    print(f\"  Node {v} features: {v_features}\\n\")"
      ]
    },
    {
      "cell_type": "code",
      "execution_count": null,
      "metadata": {
        "id": "45P1S67Tff0Z"
      },
      "outputs": [],
      "source": [
        "# Number of nodes\n",
        "print(f\"Total nodes: {final_influence_graph.number_of_nodes()}\")\n",
        "\n",
        "# Sample node attributes (first 5 nodes)\n",
        "for i, (node, attrs) in enumerate(final_influence_graph.nodes(data=True)):\n",
        "    print(f\"Node {node}: {attrs}\")\n",
        "    if i >= 4:\n",
        "        break\n"
      ]
    },
    {
      "cell_type": "markdown",
      "metadata": {
        "id": "0olrOnp8E5tT"
      },
      "source": [
        "# Stage 5  \n"
      ]
    },
    {
      "cell_type": "code",
      "execution_count": null,
      "metadata": {
        "colab": {
          "base_uri": "https://localhost:8080/"
        },
        "collapsed": true,
        "id": "-dy9fVRYMNn_",
        "outputId": "c35c43c0-f54f-4d7c-a019-a70a3e3e9ccf"
      },
      "outputs": [
        {
          "output_type": "stream",
          "name": "stdout",
          "text": [
            "Looking in links: https://data.pyg.org/whl/torch-2.0.0+cpu.html\n",
            "Collecting torch-scatter\n",
            "  Downloading https://data.pyg.org/whl/torch-2.0.0%2Bcpu/torch_scatter-2.1.2%2Bpt20cpu-cp311-cp311-linux_x86_64.whl (494 kB)\n",
            "\u001b[2K     \u001b[90m━━━━━━━━━━━━━━━━━━━━━━━━━━━━━━━━━━━━━━━\u001b[0m \u001b[32m494.0/494.0 kB\u001b[0m \u001b[31m6.1 MB/s\u001b[0m eta \u001b[36m0:00:00\u001b[0m\n",
            "\u001b[?25hCollecting torch-sparse\n",
            "  Downloading https://data.pyg.org/whl/torch-2.0.0%2Bcpu/torch_sparse-0.6.18%2Bpt20cpu-cp311-cp311-linux_x86_64.whl (1.2 MB)\n",
            "\u001b[2K     \u001b[90m━━━━━━━━━━━━━━━━━━━━━━━━━━━━━━━━━━━━━━━━\u001b[0m \u001b[32m1.2/1.2 MB\u001b[0m \u001b[31m22.2 MB/s\u001b[0m eta \u001b[36m0:00:00\u001b[0m\n",
            "\u001b[?25hCollecting torch-geometric\n",
            "  Downloading torch_geometric-2.6.1-py3-none-any.whl.metadata (63 kB)\n",
            "\u001b[2K     \u001b[90m━━━━━━━━━━━━━━━━━━━━━━━━━━━━━━━━━━━━━━━━\u001b[0m \u001b[32m63.1/63.1 kB\u001b[0m \u001b[31m1.7 MB/s\u001b[0m eta \u001b[36m0:00:00\u001b[0m\n",
            "\u001b[?25hRequirement already satisfied: scipy in /usr/local/lib/python3.11/dist-packages (from torch-sparse) (1.15.3)\n",
            "Requirement already satisfied: aiohttp in /usr/local/lib/python3.11/dist-packages (from torch-geometric) (3.11.15)\n",
            "Requirement already satisfied: fsspec in /usr/local/lib/python3.11/dist-packages (from torch-geometric) (2025.5.1)\n",
            "Requirement already satisfied: jinja2 in /usr/local/lib/python3.11/dist-packages (from torch-geometric) (3.1.6)\n",
            "Requirement already satisfied: numpy in /usr/local/lib/python3.11/dist-packages (from torch-geometric) (2.0.2)\n",
            "Requirement already satisfied: psutil>=5.8.0 in /usr/local/lib/python3.11/dist-packages (from torch-geometric) (5.9.5)\n",
            "Requirement already satisfied: pyparsing in /usr/local/lib/python3.11/dist-packages (from torch-geometric) (3.2.3)\n",
            "Requirement already satisfied: requests in /usr/local/lib/python3.11/dist-packages (from torch-geometric) (2.32.3)\n",
            "Requirement already satisfied: tqdm in /usr/local/lib/python3.11/dist-packages (from torch-geometric) (4.67.1)\n",
            "Requirement already satisfied: aiohappyeyeballs>=2.3.0 in /usr/local/lib/python3.11/dist-packages (from aiohttp->torch-geometric) (2.6.1)\n",
            "Requirement already satisfied: aiosignal>=1.1.2 in /usr/local/lib/python3.11/dist-packages (from aiohttp->torch-geometric) (1.3.2)\n",
            "Requirement already satisfied: attrs>=17.3.0 in /usr/local/lib/python3.11/dist-packages (from aiohttp->torch-geometric) (25.3.0)\n",
            "Requirement already satisfied: frozenlist>=1.1.1 in /usr/local/lib/python3.11/dist-packages (from aiohttp->torch-geometric) (1.6.0)\n",
            "Requirement already satisfied: multidict<7.0,>=4.5 in /usr/local/lib/python3.11/dist-packages (from aiohttp->torch-geometric) (6.4.4)\n",
            "Requirement already satisfied: propcache>=0.2.0 in /usr/local/lib/python3.11/dist-packages (from aiohttp->torch-geometric) (0.3.1)\n",
            "Requirement already satisfied: yarl<2.0,>=1.17.0 in /usr/local/lib/python3.11/dist-packages (from aiohttp->torch-geometric) (1.20.0)\n",
            "Requirement already satisfied: MarkupSafe>=2.0 in /usr/local/lib/python3.11/dist-packages (from jinja2->torch-geometric) (3.0.2)\n",
            "Requirement already satisfied: charset-normalizer<4,>=2 in /usr/local/lib/python3.11/dist-packages (from requests->torch-geometric) (3.4.2)\n",
            "Requirement already satisfied: idna<4,>=2.5 in /usr/local/lib/python3.11/dist-packages (from requests->torch-geometric) (3.10)\n",
            "Requirement already satisfied: urllib3<3,>=1.21.1 in /usr/local/lib/python3.11/dist-packages (from requests->torch-geometric) (2.4.0)\n",
            "Requirement already satisfied: certifi>=2017.4.17 in /usr/local/lib/python3.11/dist-packages (from requests->torch-geometric) (2025.4.26)\n",
            "Downloading torch_geometric-2.6.1-py3-none-any.whl (1.1 MB)\n",
            "\u001b[2K   \u001b[90m━━━━━━━━━━━━━━━━━━━━━━━━━━━━━━━━━━━━━━━━\u001b[0m \u001b[32m1.1/1.1 MB\u001b[0m \u001b[31m18.6 MB/s\u001b[0m eta \u001b[36m0:00:00\u001b[0m\n",
            "\u001b[?25hInstalling collected packages: torch-scatter, torch-sparse, torch-geometric\n",
            "Successfully installed torch-geometric-2.6.1 torch-scatter-2.1.2+pt20cpu torch-sparse-0.6.18+pt20cpu\n"
          ]
        }
      ],
      "source": [
        "!pip install torch-scatter torch-sparse torch-geometric -f https://data.pyg.org/whl/torch-2.0.0+cpu.html"
      ]
    },
    {
      "cell_type": "code",
      "execution_count": null,
      "metadata": {
        "colab": {
          "base_uri": "https://localhost:8080/"
        },
        "id": "qTEwGV27FGHI",
        "outputId": "876aba3e-fe0e-44f2-9bc1-9b3cffe68ecc"
      },
      "outputs": [
        {
          "output_type": "stream",
          "name": "stderr",
          "text": [
            "/usr/local/lib/python3.11/dist-packages/torch_geometric/typing.py:86: UserWarning: An issue occurred while importing 'torch-scatter'. Disabling its usage. Stacktrace: /usr/local/lib/python3.11/dist-packages/torch_scatter/_version_cpu.so: undefined symbol: _ZN3c1017RegisterOperatorsD1Ev\n",
            "  warnings.warn(f\"An issue occurred while importing 'torch-scatter'. \"\n",
            "/usr/local/lib/python3.11/dist-packages/torch_geometric/typing.py:124: UserWarning: An issue occurred while importing 'torch-sparse'. Disabling its usage. Stacktrace: /usr/local/lib/python3.11/dist-packages/torch_sparse/_version_cpu.so: undefined symbol: _ZN3c1017RegisterOperatorsD1Ev\n",
            "  warnings.warn(f\"An issue occurred while importing 'torch-sparse'. \"\n"
          ]
        },
        {
          "output_type": "stream",
          "name": "stdout",
          "text": [
            "Data(x=[456626, 14], edge_index=[2, 15508209], edge_attr=[15508209, 11], y=[456626], train_mask=[456626], val_mask=[456626], test_mask=[456626])\n",
            "Node features used: ['num_retweets', 'num_replies', 'num_mentions', 'first_activity_time', 'last_activity_time', 'follower_in_degree', 'follower_out_degree', 'retweet_in_degree', 'retweet_out_degree', 'reply_in_degree', 'reply_out_degree', 'mention_in_degree', 'mention_out_degree', 'time_since_first_exposure']\n",
            "Edge features used: ['feat_0', 'feat_1', 'feat_10', 'feat_2', 'feat_3', 'feat_4', 'feat_5', 'feat_6', 'feat_7', 'feat_8', 'feat_9']\n"
          ]
        }
      ],
      "source": [
        "import torch\n",
        "from torch_geometric.data import Data\n",
        "import random\n",
        "import numpy as np\n",
        "\n",
        "def nx_to_pyg_data_with_edge_attrs(graph, train_ratio=0.7, val_ratio=0.15, test_ratio=0.15):\n",
        "    node_list = list(graph.nodes())\n",
        "    node_to_idx = {node: i for i, node in enumerate(node_list)}\n",
        "\n",
        "    exclude_keys = ['user_id', 'is_influential', 'influence_score']\n",
        "    feature_keys = [k for k in graph.nodes[node_list[0]].keys() if k not in exclude_keys]\n",
        "\n",
        "    features = []\n",
        "    for node in node_list:\n",
        "        attrs = graph.nodes[node]\n",
        "        feat_vector = [attrs.get(k, 0.0) for k in feature_keys]\n",
        "        features.append(feat_vector)\n",
        "    x = torch.tensor(features, dtype=torch.float)\n",
        "\n",
        "    # Prepare edge index and edge features\n",
        "    edge_indices = []\n",
        "    edge_features = []\n",
        "    edge_feature_keys = None\n",
        "\n",
        "    for u, v, attrs in graph.edges(data=True):\n",
        "        edge_indices.append((node_to_idx[u], node_to_idx[v]))\n",
        "\n",
        "        # Collect edge features (all except 'edge_type' string, adjust if needed)\n",
        "        if edge_feature_keys is None:\n",
        "            edge_feature_keys = [k for k in attrs.keys() if k != 'edge_type']\n",
        "        feat_vec = [attrs.get(k, 0.0) for k in edge_feature_keys]\n",
        "        edge_features.append(feat_vec)\n",
        "\n",
        "    edge_index = torch.tensor(edge_indices, dtype=torch.long).t().contiguous()\n",
        "    edge_attr = torch.tensor(edge_features, dtype=torch.float) if edge_features else None\n",
        "\n",
        "    y = torch.tensor([graph.nodes[node].get(\"influence_score\", 0.0) for node in node_list], dtype=torch.float)\n",
        "\n",
        "    # Train/val/test splits for nodes\n",
        "    num_nodes = len(node_list)\n",
        "    indices = list(range(num_nodes))\n",
        "    random.shuffle(indices)\n",
        "\n",
        "    train_cut = int(train_ratio * num_nodes)\n",
        "    val_cut = int((train_ratio + val_ratio) * num_nodes)\n",
        "\n",
        "    train_idx = indices[:train_cut]\n",
        "    val_idx = indices[train_cut:val_cut]\n",
        "    test_idx = indices[val_cut:]\n",
        "\n",
        "    train_mask = torch.zeros(num_nodes, dtype=torch.bool)\n",
        "    val_mask = torch.zeros(num_nodes, dtype=torch.bool)\n",
        "    test_mask = torch.zeros(num_nodes, dtype=torch.bool)\n",
        "\n",
        "    train_mask[train_idx] = True\n",
        "    val_mask[val_idx] = True\n",
        "    test_mask[test_idx] = True\n",
        "\n",
        "    data = Data(x=x, edge_index=edge_index, y=y,\n",
        "                train_mask=train_mask, val_mask=val_mask, test_mask=test_mask,\n",
        "                edge_attr=edge_attr)\n",
        "\n",
        "    return data, node_to_idx, feature_keys, edge_feature_keys\n",
        "\n",
        "# Usage:\n",
        "pyg_data, node_map, node_feature_keys, edge_feature_keys = nx_to_pyg_data_with_edge_attrs(final_influence_graph)\n",
        "\n",
        "print(pyg_data)\n",
        "print(f\"Node features used: {node_feature_keys}\")\n",
        "print(f\"Edge features used: {edge_feature_keys}\")\n"
      ]
    },
    {
      "cell_type": "code",
      "execution_count": null,
      "metadata": {
        "colab": {
          "base_uri": "https://localhost:8080/"
        },
        "id": "E7YFE4XXbs56",
        "outputId": "d0db2117-6360-4beb-807f-56581c304968"
      },
      "outputs": [
        {
          "output_type": "stream",
          "name": "stdout",
          "text": [
            "✅ PyG data saved to: /content/drive/MyDrive/SNS/models/pyg_data_regressor.pt\n"
          ]
        }
      ],
      "source": [
        "# ========== ✅ SAVEs THE SPLITS ==========\n",
        "import torch\n",
        "\n",
        "data_save_path = \"/content/drive/MyDrive/SNS/models/pyg_data_regressor.pt\"\n",
        "torch.save(pyg_data, data_save_path)\n",
        "print(f\"✅ PyG data saved to: {data_save_path}\")\n",
        "# ========== ✅ SAVEs THE SPLITS =========="
      ]
    },
    {
      "cell_type": "code",
      "source": [
        "import torch\n",
        "\n",
        "data_load_path = \"/content/drive/MyDrive/SNS/models/pyg_data_regressor.pt\"\n",
        "\n",
        "pyg_data = torch.load(data_load_path, weights_only=False)\n",
        "\n",
        "print(f\"✅ PyG data loaded from: {data_load_path}\")\n",
        "print(pyg_data)\n"
      ],
      "metadata": {
        "colab": {
          "base_uri": "https://localhost:8080/"
        },
        "id": "wkVffrGhEXtm",
        "outputId": "96bcc818-fc93-4a39-f53f-d1c1fff73be7"
      },
      "execution_count": null,
      "outputs": [
        {
          "output_type": "stream",
          "name": "stderr",
          "text": [
            "/usr/local/lib/python3.11/dist-packages/torch_geometric/typing.py:86: UserWarning: An issue occurred while importing 'torch-scatter'. Disabling its usage. Stacktrace: /usr/local/lib/python3.11/dist-packages/torch_scatter/_version_cpu.so: undefined symbol: _ZN3c1017RegisterOperatorsD1Ev\n",
            "  warnings.warn(f\"An issue occurred while importing 'torch-scatter'. \"\n",
            "/usr/local/lib/python3.11/dist-packages/torch_geometric/typing.py:124: UserWarning: An issue occurred while importing 'torch-sparse'. Disabling its usage. Stacktrace: /usr/local/lib/python3.11/dist-packages/torch_sparse/_version_cpu.so: undefined symbol: _ZN3c1017RegisterOperatorsD1Ev\n",
            "  warnings.warn(f\"An issue occurred while importing 'torch-sparse'. \"\n"
          ]
        },
        {
          "output_type": "stream",
          "name": "stdout",
          "text": [
            "✅ PyG data loaded from: /content/drive/MyDrive/SNS/models/pyg_data_regressor.pt\n",
            "Data(x=[456626, 14], edge_index=[2, 15508209], edge_attr=[15508209, 11], y=[456626], train_mask=[456626], val_mask=[456626], test_mask=[456626])\n"
          ]
        }
      ]
    },
    {
      "cell_type": "markdown",
      "metadata": {
        "id": "0i-JP3PzPPWe"
      },
      "source": [
        "# Stage 6 Training The Models\n",
        "\n"
      ]
    },
    {
      "cell_type": "code",
      "execution_count": null,
      "metadata": {
        "collapsed": true,
        "id": "APy1c16GcARj"
      },
      "outputs": [],
      "source": [
        "import torch\n",
        "import torch.nn as nn\n",
        "import torch.nn.functional as F\n",
        "from torch_geometric.nn import GCNConv,GATConv, SAGEConv, TransformerConv\n",
        "from sklearn.metrics import mean_squared_error, mean_absolute_error, r2_score"
      ]
    },
    {
      "cell_type": "markdown",
      "metadata": {
        "id": "50geJS8zb10C"
      },
      "source": [
        "# Model 1: GCN"
      ]
    },
    {
      "cell_type": "code",
      "execution_count": null,
      "metadata": {
        "id": "BbT1fvVAb3TK",
        "colab": {
          "base_uri": "https://localhost:8080/"
        },
        "outputId": "e9802159-2084-4622-cbb5-3bfd4f4cfc04"
      },
      "outputs": [
        {
          "output_type": "stream",
          "name": "stdout",
          "text": [
            "[GCN] Epoch 001 | Loss: 0.9824 | Val RMSE: 0.9529\n",
            "[GCN] Epoch 002 | Loss: 0.8799 | Val RMSE: 0.9081\n",
            "[GCN] Epoch 003 | Loss: 0.7968 | Val RMSE: 0.8694\n",
            "[GCN] Epoch 004 | Loss: 0.7271 | Val RMSE: 0.8357\n",
            "[GCN] Epoch 005 | Loss: 0.6676 | Val RMSE: 0.8062\n",
            "[GCN] Epoch 006 | Loss: 0.6165 | Val RMSE: 0.7831\n",
            "[GCN] Epoch 007 | Loss: 0.5760 | Val RMSE: 0.7700\n",
            "[GCN] Epoch 008 | Loss: 0.5500 | Val RMSE: 0.7687\n",
            "[GCN] Epoch 009 | Loss: 0.5393 | Val RMSE: 0.7726\n",
            "[GCN] Epoch 010 | Loss: 0.5372 | Val RMSE: 0.7739\n",
            "[GCN] Epoch 011 | Loss: 0.5355 | Val RMSE: 0.7700\n",
            "[GCN] Epoch 012 | Loss: 0.5301 | Val RMSE: 0.7617\n",
            "[GCN] Epoch 013 | Loss: 0.5205 | Val RMSE: 0.7521\n",
            "[GCN] Epoch 014 | Loss: 0.5103 | Val RMSE: 0.7432\n",
            "[GCN] Epoch 015 | Loss: 0.5025 | Val RMSE: 0.7348\n",
            "[GCN] Epoch 016 | Loss: 0.4961 | Val RMSE: 0.7277\n",
            "[GCN] Epoch 017 | Loss: 0.4914 | Val RMSE: 0.7226\n",
            "[GCN] Epoch 018 | Loss: 0.4880 | Val RMSE: 0.7184\n",
            "[GCN] Epoch 019 | Loss: 0.4845 | Val RMSE: 0.7150\n",
            "[GCN] Epoch 020 | Loss: 0.4812 | Val RMSE: 0.7121\n",
            "[GCN] Epoch 021 | Loss: 0.4783 | Val RMSE: 0.7088\n",
            "[GCN] Epoch 022 | Loss: 0.4750 | Val RMSE: 0.7054\n",
            "[GCN] Epoch 023 | Loss: 0.4714 | Val RMSE: 0.7020\n",
            "[GCN] Epoch 024 | Loss: 0.4677 | Val RMSE: 0.6984\n",
            "[GCN] Epoch 025 | Loss: 0.4632 | Val RMSE: 0.6952\n",
            "[GCN] Epoch 026 | Loss: 0.4588 | Val RMSE: 0.6922\n",
            "[GCN] Epoch 027 | Loss: 0.4547 | Val RMSE: 0.6894\n",
            "[GCN] Epoch 028 | Loss: 0.4513 | Val RMSE: 0.6872\n",
            "[GCN] Epoch 029 | Loss: 0.4488 | Val RMSE: 0.6856\n",
            "[GCN] Epoch 030 | Loss: 0.4468 | Val RMSE: 0.6842\n",
            "[GCN] Epoch 031 | Loss: 0.4450 | Val RMSE: 0.6828\n",
            "[GCN] Epoch 032 | Loss: 0.4431 | Val RMSE: 0.6810\n",
            "[GCN] Epoch 033 | Loss: 0.4411 | Val RMSE: 0.6790\n",
            "[GCN] Epoch 034 | Loss: 0.4390 | Val RMSE: 0.6771\n",
            "[GCN] Epoch 035 | Loss: 0.4371 | Val RMSE: 0.6757\n",
            "[GCN] Epoch 036 | Loss: 0.4356 | Val RMSE: 0.6746\n",
            "[GCN] Epoch 037 | Loss: 0.4344 | Val RMSE: 0.6735\n",
            "[GCN] Epoch 038 | Loss: 0.4335 | Val RMSE: 0.6724\n",
            "[GCN] Epoch 039 | Loss: 0.4327 | Val RMSE: 0.6714\n",
            "[GCN] Epoch 040 | Loss: 0.4320 | Val RMSE: 0.6704\n",
            "[GCN] Epoch 041 | Loss: 0.4312 | Val RMSE: 0.6696\n",
            "[GCN] Epoch 042 | Loss: 0.4303 | Val RMSE: 0.6689\n",
            "[GCN] Epoch 043 | Loss: 0.4293 | Val RMSE: 0.6681\n",
            "[GCN] Epoch 044 | Loss: 0.4284 | Val RMSE: 0.6674\n",
            "[GCN] Epoch 045 | Loss: 0.4274 | Val RMSE: 0.6668\n",
            "[GCN] Epoch 046 | Loss: 0.4266 | Val RMSE: 0.6662\n",
            "[GCN] Epoch 047 | Loss: 0.4257 | Val RMSE: 0.6654\n",
            "[GCN] Epoch 048 | Loss: 0.4248 | Val RMSE: 0.6644\n",
            "[GCN] Epoch 049 | Loss: 0.4239 | Val RMSE: 0.6634\n",
            "[GCN] Epoch 050 | Loss: 0.4229 | Val RMSE: 0.6626\n",
            "[GCN] Epoch 051 | Loss: 0.4219 | Val RMSE: 0.6618\n",
            "[GCN] Epoch 052 | Loss: 0.4210 | Val RMSE: 0.6610\n",
            "[GCN] Epoch 053 | Loss: 0.4202 | Val RMSE: 0.6602\n",
            "[GCN] Epoch 054 | Loss: 0.4194 | Val RMSE: 0.6595\n",
            "[GCN] Epoch 055 | Loss: 0.4186 | Val RMSE: 0.6589\n",
            "[GCN] Epoch 056 | Loss: 0.4177 | Val RMSE: 0.6583\n",
            "[GCN] Epoch 057 | Loss: 0.4168 | Val RMSE: 0.6577\n",
            "[GCN] Epoch 058 | Loss: 0.4159 | Val RMSE: 0.6572\n",
            "[GCN] Epoch 059 | Loss: 0.4151 | Val RMSE: 0.6568\n",
            "[GCN] Epoch 060 | Loss: 0.4144 | Val RMSE: 0.6564\n",
            "[GCN] Epoch 061 | Loss: 0.4136 | Val RMSE: 0.6559\n",
            "[GCN] Epoch 062 | Loss: 0.4128 | Val RMSE: 0.6554\n",
            "[GCN] Epoch 063 | Loss: 0.4121 | Val RMSE: 0.6550\n",
            "[GCN] Epoch 064 | Loss: 0.4113 | Val RMSE: 0.6545\n",
            "[GCN] Epoch 065 | Loss: 0.4106 | Val RMSE: 0.6540\n",
            "[GCN] Epoch 066 | Loss: 0.4099 | Val RMSE: 0.6535\n",
            "[GCN] Epoch 067 | Loss: 0.4092 | Val RMSE: 0.6530\n",
            "[GCN] Epoch 068 | Loss: 0.4085 | Val RMSE: 0.6525\n",
            "[GCN] Epoch 069 | Loss: 0.4078 | Val RMSE: 0.6520\n",
            "[GCN] Epoch 070 | Loss: 0.4071 | Val RMSE: 0.6516\n",
            "[GCN] Epoch 071 | Loss: 0.4064 | Val RMSE: 0.6511\n",
            "[GCN] Epoch 072 | Loss: 0.4058 | Val RMSE: 0.6507\n",
            "[GCN] Epoch 073 | Loss: 0.4051 | Val RMSE: 0.6502\n",
            "[GCN] Epoch 074 | Loss: 0.4045 | Val RMSE: 0.6497\n",
            "[GCN] Epoch 075 | Loss: 0.4038 | Val RMSE: 0.6492\n",
            "[GCN] Epoch 076 | Loss: 0.4032 | Val RMSE: 0.6487\n",
            "[GCN] Epoch 077 | Loss: 0.4026 | Val RMSE: 0.6482\n",
            "[GCN] Epoch 078 | Loss: 0.4020 | Val RMSE: 0.6477\n",
            "[GCN] Epoch 079 | Loss: 0.4014 | Val RMSE: 0.6472\n",
            "[GCN] Epoch 080 | Loss: 0.4008 | Val RMSE: 0.6468\n",
            "[GCN] Epoch 081 | Loss: 0.4002 | Val RMSE: 0.6463\n",
            "[GCN] Epoch 082 | Loss: 0.3996 | Val RMSE: 0.6459\n",
            "[GCN] Epoch 083 | Loss: 0.3991 | Val RMSE: 0.6454\n",
            "[GCN] Epoch 084 | Loss: 0.3985 | Val RMSE: 0.6449\n",
            "[GCN] Epoch 085 | Loss: 0.3980 | Val RMSE: 0.6445\n",
            "[GCN] Epoch 086 | Loss: 0.3975 | Val RMSE: 0.6440\n",
            "[GCN] Epoch 087 | Loss: 0.3969 | Val RMSE: 0.6435\n",
            "[GCN] Epoch 088 | Loss: 0.3964 | Val RMSE: 0.6431\n",
            "[GCN] Epoch 089 | Loss: 0.3959 | Val RMSE: 0.6427\n",
            "[GCN] Epoch 090 | Loss: 0.3955 | Val RMSE: 0.6424\n"
          ]
        }
      ],
      "source": [
        "class GCNRegressor(nn.Module):\n",
        "    def __init__(self, input_dim, hidden_dim):\n",
        "        super(GCNRegressor, self).__init__()\n",
        "        self.gcn1 = GCNConv(input_dim, hidden_dim)\n",
        "        self.gcn2 = GCNConv(hidden_dim, hidden_dim)\n",
        "        self.linear = nn.Linear(hidden_dim, 1)\n",
        "\n",
        "    def forward(self, x, edge_index):\n",
        "        x = self.gcn1(x, edge_index)\n",
        "        x = F.relu(x)\n",
        "        x = self.gcn2(x, edge_index)\n",
        "        x = F.relu(x)\n",
        "        out = self.linear(x)\n",
        "        return out.view(-1)\n",
        "\n",
        "\n",
        "criterion = nn.MSELoss()\n",
        "model = GCNRegressor(input_dim=pyg_data.num_features, hidden_dim=64)\n",
        "optimizer = torch.optim.Adam(model.parameters(), lr=0.005)\n",
        "\n",
        "\n",
        "def train(model, data, optimizer, criterion):\n",
        "    model.train()\n",
        "    optimizer.zero_grad()\n",
        "    out = model(data.x, data.edge_index)\n",
        "    loss = criterion(out[data.train_mask], data.y[data.train_mask])\n",
        "    loss.backward()\n",
        "    optimizer.step()\n",
        "    return loss.item()\n",
        "\n",
        "def evaluate(model, data, mask):\n",
        "    model.eval()\n",
        "    with torch.no_grad():\n",
        "        out = model(data.x, data.edge_index)\n",
        "        loss = criterion(out[mask], data.y[mask])\n",
        "        rmse = torch.sqrt(loss)\n",
        "    return rmse.item()\n",
        "\n",
        "for epoch in range(1, 501):\n",
        "    loss = train(model, pyg_data, optimizer, criterion)\n",
        "    val_rmse = evaluate(model, pyg_data, pyg_data.val_mask)\n",
        "    print(f\"[GCN] Epoch {epoch:03d} | Loss: {loss:.4f} | Val RMSE: {val_rmse:.4f}\")\n"
      ]
    },
    {
      "cell_type": "code",
      "source": [
        "test_rmse = evaluate(model, pyg_data, pyg_data.test_mask)\n",
        "print(f\"[GCN] Test RMSE: {test_rmse:.4f}\")"
      ],
      "metadata": {
        "id": "QzX8DT_mfutQ"
      },
      "execution_count": null,
      "outputs": []
    },
    {
      "cell_type": "code",
      "execution_count": null,
      "metadata": {
        "id": "i09yZwkqdQ6W"
      },
      "outputs": [],
      "source": [
        "# ========== ✅ SAVES GCN MODEL ==========\n",
        "import torch\n",
        "\n",
        "model_save_path = \"/content/drive/MyDrive/SNS/models/gcn_model_regressor.pth\"\n",
        "\n",
        "torch.save(model.state_dict(), model_save_path)\n",
        "\n",
        "print(f\"✅ GAT model saved to: {model_save_path}\")\n",
        "\n",
        "# ========== ✅ SAVES GCN MODEL =========="
      ]
    },
    {
      "cell_type": "markdown",
      "metadata": {
        "id": "RIkc_gFcNfqK"
      },
      "source": [
        "# MODEL 2: GAT (IGNORE FOR NOW)"
      ]
    },
    {
      "cell_type": "code",
      "execution_count": null,
      "metadata": {
        "id": "28MB3_axb37l"
      },
      "outputs": [],
      "source": [
        "class GATRegressor(nn.Module):\n",
        "    def init(self, input_dim, hidden_dim, output_dim, num_heads=4):\n",
        "        super(GATRegressor, self).init()\n",
        "        # First GAT layer with multiple heads\n",
        "        self.gat1 = GATConv(input_dim, hidden_dim, heads=num_heads, dropout=0.2)\n",
        "        # Second GAT layer with one head and no concatenation\n",
        "        self.gat2 = GATConv(hidden_dim * num_heads, output_dim, heads=1, concat=False)\n",
        "\n",
        "    def forward(self, x, edge_index):\n",
        "        x = self.gat1(x, edge_index)\n",
        "        x = F.elu(x)\n",
        "        x = self.gat2(x, edge_index)\n",
        "        return x.squeeze()  # Shape: [num_nodes]\n",
        "\n",
        "# Define loss function for regression\n",
        "criterion = nn.MSELoss()\n",
        "\n",
        "# Training function\n",
        "def train(model, data, optimizer, criterion):\n",
        "    model.train()\n",
        "    optimizer.zero_grad()\n",
        "    out = model(data.x, data.edge_index)\n",
        "    loss = criterion(out[data.train_mask], data.y[data.train_mask])\n",
        "    loss.backward()\n",
        "    optimizer.step()\n",
        "    return loss.item()\n",
        "\n",
        "# Evaluation function (returns MSE)\n",
        "def evaluate(model, data, mask):\n",
        "    model.eval()\n",
        "    with torch.no_grad():\n",
        "        out = model(data.x, data.edge_index)\n",
        "        mse = criterion(out[mask], data.y[mask])\n",
        "    return mse.item()\n",
        "\n",
        "# Hyperparameters\n",
        "input_dim = pyg_data.num_node_features\n",
        "hidden_dim = 64\n",
        "output_dim = 1\n",
        "num_heads = 4\n",
        "\n",
        "# Initialize model and optimizer\n",
        "model = GATRegressor(input_dim, hidden_dim, output_dim, num_heads)\n",
        "optimizer = torch.optim.Adam(model.parameters(), lr=0.005, weight_decay=5e-4)\n",
        "\n",
        "# Training loop\n",
        "for epoch in range(1, 1001):\n",
        "    loss = train(model, pyg_data, optimizer, criterion)\n",
        "    val_mse = evaluate(model, pyg_data, pyg_data.val_mask)\n",
        "    print(f\"[GAT] Epoch {epoch:03d} | Train Loss: {loss:.4f} | Val MSE: {val_mse:.4f}\")"
      ]
    },
    {
      "cell_type": "code",
      "source": [
        "test_mse = evaluate(model, pyg_data, pyg_data.test_mask)\n",
        "print(f\"[GAT] Test MSE: {test_mse:.4f}\")"
      ],
      "metadata": {
        "id": "RrTH4muGjD0j"
      },
      "execution_count": null,
      "outputs": []
    },
    {
      "cell_type": "code",
      "execution_count": null,
      "metadata": {
        "id": "9E7qqTwhdlcR"
      },
      "outputs": [],
      "source": [
        "# ========== ✅ SAVES GAT MODEL ==========\n",
        "import torch\n",
        "\n",
        "model_save_path = \"/content/drive/MyDrive/SNS/models/gat_model_regressor.pth\"\n",
        "\n",
        "torch.save(model.state_dict(), model_save_path)\n",
        "\n",
        "print(f\"✅ SAGE model saved to: {model_save_path}\")\n",
        "\n",
        "# ========== ✅ SAVES GAT MODEL =========="
      ]
    },
    {
      "cell_type": "markdown",
      "metadata": {
        "id": "4ZpmNUxtdzUA"
      },
      "source": [
        "# MODEL 3: Graphomer\n"
      ]
    },
    {
      "cell_type": "code",
      "execution_count": null,
      "metadata": {
        "colab": {
          "base_uri": "https://localhost:8080/"
        },
        "id": "TEuTg3lkd4gc",
        "outputId": "ee9144be-4a7b-4083-92b7-64055792cb55"
      },
      "outputs": [
        {
          "output_type": "stream",
          "name": "stdout",
          "text": [
            "[Epoch 001] Loss: 2.1878 | Val MSE: 13.0101 | Val MAE: 1.9700\n",
            "  ✅ Checkpoint saved (val MSE improved)\n",
            "[Epoch 002] Loss: 10.1678 | Val MSE: 2.1033 | Val MAE: 0.8616\n",
            "  ✅ Checkpoint saved (val MSE improved)\n",
            "[Epoch 003] Loss: 1.7701 | Val MSE: 0.8888 | Val MAE: 0.5232\n",
            "  ✅ Checkpoint saved (val MSE improved)\n",
            "[Epoch 004] Loss: 0.8154 | Val MSE: 1.5949 | Val MAE: 0.7831\n",
            "[Epoch 005] Loss: 1.3089 | Val MSE: 1.8538 | Val MAE: 0.8425\n",
            "[Epoch 006] Loss: 1.3757 | Val MSE: 1.6260 | Val MAE: 0.8094\n",
            "[Epoch 007] Loss: 1.2031 | Val MSE: 1.2730 | Val MAE: 0.7391\n",
            "[Epoch 008] Loss: 0.9743 | Val MSE: 0.9635 | Val MAE: 0.6603\n",
            "[Epoch 009] Loss: 0.7669 | Val MSE: 0.7218 | Val MAE: 0.5857\n",
            "  ✅ Checkpoint saved (val MSE improved)\n",
            "[Epoch 010] Loss: 0.6054 | Val MSE: 0.5757 | Val MAE: 0.5231\n",
            "  ✅ Checkpoint saved (val MSE improved)\n"
          ]
        }
      ],
      "source": [
        "# --- Define Graphormer Regressor ---\n",
        "class GraphormerRegressor(nn.Module):\n",
        "    def __init__(self, input_dim, hidden_dim, edge_dim):\n",
        "        super(GraphormerRegressor, self).__init__()\n",
        "        self.conv1 = TransformerConv(input_dim, hidden_dim, heads=4, edge_dim=edge_dim)\n",
        "        self.conv2 = TransformerConv(hidden_dim * 4, hidden_dim, heads=1, edge_dim=edge_dim)\n",
        "        self.linear = nn.Linear(hidden_dim, 1)\n",
        "\n",
        "    def forward(self, x, edge_index, edge_attr):\n",
        "        x = self.conv1(x, edge_index, edge_attr)\n",
        "        x = F.relu(x)\n",
        "        x = self.conv2(x, edge_index, edge_attr)\n",
        "        x = F.relu(x)\n",
        "        return self.linear(x).squeeze()\n",
        "\n",
        "# --- Training & Evaluation ---\n",
        "def train(model, data, optimizer, criterion):\n",
        "    model.train()\n",
        "    optimizer.zero_grad()\n",
        "    out = model(data.x, data.edge_index, data.edge_attr)\n",
        "    loss = criterion(out[data.train_mask], data.y[data.train_mask])\n",
        "    loss.backward()\n",
        "    optimizer.step()\n",
        "    return loss.item()\n",
        "\n",
        "@torch.no_grad()\n",
        "def evaluate(model, data, mask):\n",
        "    model.eval()\n",
        "    out = model(data.x, data.edge_index, data.edge_attr)\n",
        "    mse = F.mse_loss(out[mask], data.y[mask]).item()\n",
        "    rmse = mse ** 0.5\n",
        "    mae = F.l1_loss(out[mask], data.y[mask]).item()\n",
        "    return rmse, mae\n",
        "\n",
        "# --- Setup ---\n",
        "device = torch.device('cuda' if torch.cuda.is_available() else 'cpu')\n",
        "input_dim = pyg_data.num_node_features\n",
        "hidden_dim = 64\n",
        "edge_dim = pyg_data.edge_attr.shape[1]\n",
        "\n",
        "model = GraphormerRegressor(input_dim, hidden_dim, edge_dim).to(device)\n",
        "pyg_data = pyg_data.to(device)\n",
        "\n",
        "optimizer = torch.optim.Adam(model.parameters(), lr=0.005)\n",
        "criterion = nn.MSELoss()\n",
        "\n",
        "# --- Checkpoint Path ---\n",
        "checkpoint_dir = \"/content/drive/MyDrive/SNS/checkpoints\"\n",
        "checkpoint_path = os.path.join(checkpoint_dir, 'graphormer_regression.pt')\n",
        "\n",
        "# --- Resume from Checkpoint if exists ---\n",
        "best_val_rmse = float('inf')\n",
        "start_epoch = 1\n",
        "\n",
        "if os.path.exists(checkpoint_path):\n",
        "    checkpoint = torch.load(checkpoint_path)\n",
        "    model.load_state_dict(checkpoint['model_state_dict'])\n",
        "    optimizer.load_state_dict(checkpoint['optimizer_state_dict'])\n",
        "    best_val_rmse = checkpoint['best_val_rmse']\n",
        "    start_epoch = checkpoint['epoch'] + 1\n",
        "    print(f\"🔄 Resumed from epoch {start_epoch}, best_val_rmse = {best_val_rmse:.4f}\")\n",
        "\n",
        "# --- Training Loop ---\n",
        "for epoch in range(start_epoch, 1001):\n",
        "    loss = train(model, pyg_data, optimizer, criterion)\n",
        "    val_rmse, val_mae = evaluate(model, pyg_data, pyg_data.val_mask)\n",
        "    print(f\"[Epoch {epoch:03d}] Loss: {loss:.4f} | Val RMSE: {val_rmse:.4f} | Val MAE: {val_mae:.4f}\")\n",
        "\n",
        "    if val_rmse < best_val_rmse:\n",
        "        best_val_rmse = val_rmse\n",
        "        torch.save({\n",
        "            'epoch': epoch,\n",
        "            'model_state_dict': model.state_dict(),\n",
        "            'optimizer_state_dict': optimizer.state_dict(),\n",
        "            'best_val_rmse': best_val_rmse\n",
        "        }, checkpoint_path)\n",
        "        print(\"  ✅ Checkpoint saved (val RMSE improved)\")\n"
      ]
    },
    {
      "cell_type": "code",
      "source": [
        "# --- Evaluate Graphormer on Test Mask ---\n",
        "test_rmse, test_mae = evaluate(model, pyg_data, pyg_data.test_mask)\n",
        "print(f\"[Graphormer] Test RMSE: {test_rmse:.4f} | Test MAE: {test_mae:.4f}\")\n"
      ],
      "metadata": {
        "id": "6KEqt50LcGFA"
      },
      "execution_count": null,
      "outputs": []
    },
    {
      "cell_type": "code",
      "execution_count": null,
      "metadata": {
        "colab": {
          "base_uri": "https://localhost:8080/",
          "height": 211
        },
        "collapsed": true,
        "id": "aK5Mqx507ziW",
        "outputId": "3b68826d-1bdd-47cd-c4ee-66fed86f2a59"
      },
      "outputs": [
        {
          "ename": "NameError",
          "evalue": "name 'model' is not defined",
          "output_type": "error",
          "traceback": [
            "\u001b[0;31m---------------------------------------------------------------------------\u001b[0m",
            "\u001b[0;31mNameError\u001b[0m                                 Traceback (most recent call last)",
            "\u001b[0;32m<ipython-input-1-79139dea0c20>\u001b[0m in \u001b[0;36m<cell line: 0>\u001b[0;34m()\u001b[0m\n\u001b[1;32m      4\u001b[0m \u001b[0mmodel_save_path\u001b[0m \u001b[0;34m=\u001b[0m \u001b[0;34m\"/content/drive/MyDrive/SNS/models/gp_model.pth\"\u001b[0m\u001b[0;34m\u001b[0m\u001b[0;34m\u001b[0m\u001b[0m\n\u001b[1;32m      5\u001b[0m \u001b[0;34m\u001b[0m\u001b[0m\n\u001b[0;32m----> 6\u001b[0;31m \u001b[0mtorch\u001b[0m\u001b[0;34m.\u001b[0m\u001b[0msave\u001b[0m\u001b[0;34m(\u001b[0m\u001b[0mmodel\u001b[0m\u001b[0;34m.\u001b[0m\u001b[0mstate_dict\u001b[0m\u001b[0;34m(\u001b[0m\u001b[0;34m)\u001b[0m\u001b[0;34m,\u001b[0m \u001b[0mmodel_save_path\u001b[0m\u001b[0;34m)\u001b[0m\u001b[0;34m\u001b[0m\u001b[0;34m\u001b[0m\u001b[0m\n\u001b[0m\u001b[1;32m      7\u001b[0m \u001b[0;34m\u001b[0m\u001b[0m\n\u001b[1;32m      8\u001b[0m \u001b[0mprint\u001b[0m\u001b[0;34m(\u001b[0m\u001b[0;34mf\"✅ GP model saved to: {model_save_path}\"\u001b[0m\u001b[0;34m)\u001b[0m\u001b[0;34m\u001b[0m\u001b[0;34m\u001b[0m\u001b[0m\n",
            "\u001b[0;31mNameError\u001b[0m: name 'model' is not defined"
          ]
        }
      ],
      "source": [
        "# ========== ✅ SAVES GRAPHORMER MODEL ==========\n",
        "final_model_path = \"/content/drive/MyDrive/SNS/models/graphormer_regressor.pth\"\n",
        "torch.save(model.state_dict(), final_model_path)\n",
        "print(f\"✅ Final Graphormer model saved to: {final_model_path}\")\n",
        "\n",
        "# ========== ✅ SAVES GRAPHORMER MODEL =========="
      ]
    },
    {
      "cell_type": "markdown",
      "metadata": {
        "id": "D_HvG2-ffxfi"
      },
      "source": [
        "# MODEL 4: Sage\n"
      ]
    },
    {
      "cell_type": "code",
      "execution_count": null,
      "metadata": {
        "id": "QNm485Pif1be",
        "colab": {
          "base_uri": "https://localhost:8080/"
        },
        "outputId": "eb07460d-11f9-4e79-c544-c155b24ea4cd"
      },
      "outputs": [
        {
          "output_type": "stream",
          "name": "stdout",
          "text": [
            "[GraphSAGE] Epoch 001 | Loss: 1.0977 | Val RMSE: 0.9576\n",
            "[GraphSAGE] Epoch 002 | Loss: 0.8863 | Val RMSE: 0.8998\n",
            "[GraphSAGE] Epoch 003 | Loss: 0.7518 | Val RMSE: 0.8556\n",
            "[GraphSAGE] Epoch 004 | Loss: 0.6332 | Val RMSE: 0.8227\n",
            "[GraphSAGE] Epoch 005 | Loss: 0.5416 | Val RMSE: 0.8110\n",
            "[GraphSAGE] Epoch 006 | Loss: 0.4891 | Val RMSE: 0.7968\n",
            "[GraphSAGE] Epoch 007 | Loss: 0.4349 | Val RMSE: 0.7719\n",
            "[GraphSAGE] Epoch 008 | Loss: 0.3757 | Val RMSE: 0.7307\n",
            "[GraphSAGE] Epoch 009 | Loss: 0.3206 | Val RMSE: 0.6438\n",
            "[GraphSAGE] Epoch 010 | Loss: 0.2506 | Val RMSE: 0.5382\n",
            "[GraphSAGE] Epoch 011 | Loss: 0.1938 | Val RMSE: 0.4406\n"
          ]
        }
      ],
      "source": [
        "class GraphSAGERegressor(nn.Module):\n",
        "    def __init__(self, input_dim, hidden_dim):\n",
        "        super(GraphSAGERegressor, self).__init__()\n",
        "        self.sage1 = SAGEConv(input_dim, hidden_dim)\n",
        "        self.sage2 = SAGEConv(hidden_dim, hidden_dim)\n",
        "        self.linear = nn.Linear(hidden_dim, 1)\n",
        "\n",
        "    def forward(self, x, edge_index):\n",
        "        x = self.sage1(x, edge_index)\n",
        "        x = F.relu(x)\n",
        "        x = self.sage2(x, edge_index)\n",
        "        x = F.relu(x)\n",
        "        out = self.linear(x)\n",
        "        return out.view(-1)\n",
        "\n",
        "criterion = nn.MSELoss()\n",
        "\n",
        "\n",
        "def train(model, data, optimizer, criterion):\n",
        "    model.train()\n",
        "    optimizer.zero_grad()\n",
        "    out = model(data.x, data.edge_index)\n",
        "    loss = criterion(out[data.train_mask], data.y[data.train_mask])\n",
        "    loss.backward()\n",
        "    optimizer.step()\n",
        "    return loss.item()\n",
        "\n",
        "def evaluate(model, data, mask):\n",
        "    model.eval()\n",
        "    with torch.no_grad():\n",
        "        out = model(data.x, data.edge_index)\n",
        "        loss = criterion(out[mask], data.y[mask])\n",
        "        rmse = torch.sqrt(loss)\n",
        "    return rmse.item()\n",
        "\n",
        "model = GraphSAGERegressor(input_dim=pyg_data.num_features, hidden_dim=64)\n",
        "optimizer = torch.optim.Adam(model.parameters(), lr=0.005)\n",
        "\n",
        "for epoch in range(1, 501):\n",
        "    loss = train(model, pyg_data, optimizer, criterion)\n",
        "    val_rmse = evaluate(model, pyg_data, pyg_data.val_mask)\n",
        "    print(f\"[GraphSAGE] Epoch {epoch:03d} | Loss: {loss:.4f} | Val RMSE: {val_rmse:.4f}\")"
      ]
    },
    {
      "cell_type": "code",
      "source": [
        "test_rmse = evaluate(model, pyg_data, pyg_data.test_mask)\n",
        "print(f\"[GraphSAGE] Test RMSE: {test_rmse:.4f}\")\n"
      ],
      "metadata": {
        "id": "sE9ZmO0HXy_P"
      },
      "execution_count": null,
      "outputs": []
    },
    {
      "cell_type": "code",
      "execution_count": null,
      "metadata": {
        "id": "hBoAU5Jif374"
      },
      "outputs": [],
      "source": [
        "# ========== ✅ SAVES SAGE MODEL ==========\n",
        "import torch\n",
        "\n",
        "model_save_path = \"/content/drive/MyDrive/SNS/models/sage_model_regressor.pth\"\n",
        "\n",
        "torch.save(model.state_dict(), model_save_path)\n",
        "\n",
        "print(f\"✅ SAGE model saved to: {model_save_path}\")\n",
        "\n",
        "# ========== ✅ SAVES SAGE MODEL =========="
      ]
    },
    {
      "cell_type": "markdown",
      "metadata": {
        "id": "93PqCnObdUaa"
      },
      "source": [
        "# Stage 7  \n"
      ]
    },
    {
      "cell_type": "markdown",
      "metadata": {
        "id": "Ykiy8gsVyRNR"
      },
      "source": [
        "# 1 Run inference on all nodes using all four of your trained models"
      ]
    },
    {
      "cell_type": "code",
      "execution_count": null,
      "metadata": {
        "id": "pvR3QKMWkNmM"
      },
      "outputs": [],
      "source": [
        "import torch\n",
        "\n",
        "pyg_data = torch.load(\"/content/drive/MyDrive/SNS/models/pyg_data.pt\", weights_only=False)\n"
      ]
    },
    {
      "cell_type": "markdown",
      "metadata": {
        "id": "ruakP2W8iJT2"
      },
      "source": [
        "1. GCN Inference"
      ]
    },
    {
      "cell_type": "code",
      "execution_count": null,
      "metadata": {
        "colab": {
          "base_uri": "https://localhost:8080/"
        },
        "id": "GX7K-w5chvma",
        "outputId": "2f9c4ec6-15d7-4baf-b313-8a9fff0ecaa9"
      },
      "outputs": [
        {
          "name": "stdout",
          "output_type": "stream",
          "text": [
            "tensor([[ 33.8278, -29.7796],\n",
            "        [-21.4705,  10.4540],\n",
            "        [ -2.2181,   0.9723],\n",
            "        [-29.0152,  13.8864],\n",
            "        [-14.4155,   6.9120]])\n",
            "tensor([0, 1, 1, 1, 1])\n",
            "96700\n",
            "359926\n",
            "456626\n"
          ]
        }
      ],
      "source": [
        "@torch.no_grad()\n",
        "def get_influence_scores(model, data):\n",
        "    model.eval()\n",
        "    scores = model(data.x, data.edge_index)  # For GCN\n",
        "    return scores.view(-1)\n",
        "\n",
        "# Load trained GCN model\n",
        "gcn_model = GCN(input_dim=pyg_data.num_features, hidden_dim=64)\n",
        "gcn_model.load_state_dict(torch.load(\"/content/drive/MyDrive/SNS/models/gcn_model_regressor.pth\"))\n",
        "\n",
        "# Run inference\n",
        "gcn_scores = get_influence_scores(gcn_model, pyg_data)\n",
        "print(\"Sample influence scores:\", gcn_scores[:5])\n",
        "\n",
        "# Save raw scores only\n",
        "torch.save(gcn_scores, \"/content/drive/MyDrive/SNS/preds/gcn_preds_regressor.pt\")\n"
      ]
    },
    {
      "cell_type": "markdown",
      "metadata": {
        "id": "nLpZ4YpriVn2"
      },
      "source": [
        "2. GAT Inference ( As of now we are ignoring GAT cause of bad accuracy and it needs time to be trained well)"
      ]
    },
    {
      "cell_type": "code",
      "execution_count": null,
      "metadata": {
        "colab": {
          "base_uri": "https://localhost:8080/"
        },
        "id": "dpqCtyNhiWJX",
        "outputId": "b774ff61-f1e6-4181-b4c2-71268aa97a43"
      },
      "outputs": [
        {
          "name": "stdout",
          "output_type": "stream",
          "text": [
            "Raw logits for first 5 nodes:\n",
            "tensor([[ 0.8077, -1.3060],\n",
            "        [ 1.1117,  1.1577],\n",
            "        [ 0.8948,  1.5142],\n",
            "        [ 1.0848,  1.3029],\n",
            "        [ 1.0665,  1.4946]])\n",
            "Predicted labels for first 5 nodes:\n",
            "tensor([0, 1, 1, 1, 1])\n",
            "Predicted Influential nodes: 99999\n",
            "Predicted Non-influential nodes: 356627\n",
            "Total predicted nodes: 456626\n"
          ]
        }
      ],
      "source": [
        "class GAT(nn.Module):\n",
        "    def __init__(self, input_dim, hidden_dim, heads=1):\n",
        "        super(GAT, self).__init__()\n",
        "        self.gat1 = GATConv(input_dim, hidden_dim, heads=heads)\n",
        "        self.gat2 = GATConv(hidden_dim * heads, 1, heads=1)\n",
        "\n",
        "    def forward(self, x, edge_index):\n",
        "        x = self.gat1(x, edge_index)\n",
        "        x = F.elu(x)\n",
        "        x = self.gat2(x, edge_index)\n",
        "        return x.view(-1)\n",
        "\n",
        "gat_model = GAT(input_dim=pyg_data.num_features, hidden_dim=64)\n",
        "gat_model.load_state_dict(torch.load(\"/content/drive/MyDrive/SNS/models/gat_model_regressor.pth\"))\n",
        "gat_model.eval()\n",
        "\n",
        "with torch.no_grad():\n",
        "    gat_scores = gat_model(pyg_data.x, pyg_data.edge_index)\n",
        "\n",
        "threshold = torch.quantile(gat_scores, 0.70)\n",
        "gat_binary_preds = (gat_scores >= threshold).long()\n",
        "\n",
        "print(gat_scores[:5])\n",
        "print(gat_binary_preds[:5])\n",
        "print(int(gat_binary_preds.sum()))\n",
        "print(int((gat_binary_preds == 0).sum()))\n",
        "print(gat_binary_preds.size(0))\n",
        "\n",
        "torch.save(gat_scores, \"/content/drive/MyDrive/SNS/preds/gat_preds_regressor.pt\")\n"
      ]
    },
    {
      "cell_type": "markdown",
      "metadata": {
        "id": "gOyi2U9BiXhN"
      },
      "source": [
        "3. GraphSAGE Inference"
      ]
    },
    {
      "cell_type": "code",
      "execution_count": null,
      "metadata": {
        "colab": {
          "base_uri": "https://localhost:8080/"
        },
        "id": "9anYHYNqiY2X",
        "outputId": "0bcecfe1-9979-4286-a48c-d5cc2dfc495f"
      },
      "outputs": [
        {
          "name": "stdout",
          "output_type": "stream",
          "text": [
            "Raw logits for first 5 nodes:\n",
            "tensor([[-29.6387,  30.4094],\n",
            "        [ -8.3271,   9.9362],\n",
            "        [ -0.2840,   0.3691],\n",
            "        [-21.8503,  22.8536],\n",
            "        [ -5.3485,   5.6108]])\n",
            "Predicted labels for first 5 nodes:\n",
            "tensor([1, 1, 1, 1, 1])\n",
            "Predicted Influential nodes: 105385\n",
            "Predicted Non-influential nodes: 351241\n",
            "Total predicted nodes: 456626\n"
          ]
        }
      ],
      "source": [
        "class GraphSAGE(nn.Module):\n",
        "    def __init__(self, input_dim, hidden_dim):\n",
        "        super(GraphSAGE, self).__init__()\n",
        "        self.sage1 = SAGEConv(input_dim, hidden_dim)\n",
        "        self.sage2 = SAGEConv(hidden_dim, 1)  # Output 1 score per node for regression\n",
        "\n",
        "    def forward(self, x, edge_index):\n",
        "        x = self.sage1(x, edge_index)\n",
        "        x = F.relu(x)\n",
        "        x = self.sage2(x, edge_index)\n",
        "        return x.view(-1)  # Flatten to shape [num_nodes]\n",
        "\n",
        "# Initialize and load trained model\n",
        "sage_model = GraphSAGE(\n",
        "    input_dim=pyg_data.num_features,\n",
        "    hidden_dim=64\n",
        ")\n",
        "sage_model.load_state_dict(torch.load(\"/content/drive/MyDrive/SNS/models/sage_model_regressor.pth\"))\n",
        "sage_model.eval()\n",
        "\n",
        "# Run inference (no grad)\n",
        "with torch.no_grad():\n",
        "    sage_scores = sage_model(pyg_data.x, pyg_data.edge_index)\n",
        "\n",
        "print(\"Sample influence scores for first 5 nodes:\")\n",
        "print(sage_scores[:5])\n",
        "\n",
        "# Save the raw continuous scores\n",
        "torch.save(sage_scores, \"/content/drive/MyDrive/SNS/preds/sage_preds_regressor.pt\")\n"
      ]
    },
    {
      "cell_type": "markdown",
      "metadata": {
        "id": "F5BA31pUiaTd"
      },
      "source": [
        "4. Graphormer Inference"
      ]
    },
    {
      "cell_type": "code",
      "execution_count": null,
      "metadata": {
        "id": "DpejyFmZibuG"
      },
      "outputs": [],
      "source": [
        "class SimpleGraphormer(nn.Module):\n",
        "    def __init__(self, input_dim, hidden_dim):\n",
        "        super(SimpleGraphormer, self).__init__()\n",
        "        self.conv1 = TransformerConv(input_dim, hidden_dim, heads=4)\n",
        "        self.conv2 = TransformerConv(hidden_dim * 4, 1, heads=1)\n",
        "\n",
        "    def forward(self, x, edge_index):\n",
        "        x = self.conv1(x, edge_index)\n",
        "        x = F.relu(x)\n",
        "        x = self.conv2(x, edge_index)\n",
        "        return x.view(-1)  # Flatten output to [num_nodes]\n",
        "\n",
        "# Initialize model and load weights\n",
        "graphormer_model = SimpleGraphormer(\n",
        "    input_dim=pyg_data.num_features,\n",
        "    hidden_dim=64\n",
        ")\n",
        "graphormer_model.load_state_dict(torch.load(\"/content/drive/MyDrive/SNS/models/gp_model_regressor.pth\"))\n",
        "graphormer_model.eval()\n",
        "\n",
        "# Run inference\n",
        "with torch.no_grad():\n",
        "    graphormer_scores = graphormer_model(pyg_data.x, pyg_data.edge_index)\n",
        "\n",
        "# Print sample scores\n",
        "print(\"Sample influence scores (first 5 nodes):\")\n",
        "print(graphormer_scores[:5])\n",
        "\n",
        "# Save raw continuous scores for later steps\n",
        "torch.save(graphormer_scores, \"/content/drive/MyDrive/SNS/preds/graphormer_preds_regressor.pt\")\n"
      ]
    },
    {
      "cell_type": "markdown",
      "source": [
        "#STAGE 8 #"
      ],
      "metadata": {
        "id": "l7s96YC8QyXM"
      }
    },
    {
      "cell_type": "markdown",
      "metadata": {
        "id": "2TLIX3eMyIhG"
      },
      "source": [
        "# 2. Rank Nodes by Predicted Influence Scores\n"
      ]
    },
    {
      "cell_type": "code",
      "execution_count": null,
      "metadata": {
        "colab": {
          "base_uri": "https://localhost:8080/"
        },
        "id": "G381c-nqxRiI",
        "outputId": "0707a855-5f02-4e77-c347-bd82ae07f748"
      },
      "outputs": [
        {
          "name": "stdout",
          "output_type": "stream",
          "text": [
            "Top 136987 influential nodes according to GCN:\n",
            "tensor([  8121,   3452,   8302,  ..., 172205,  78266, 193088])\n",
            "Top 136987 influential nodes according to GAT:\n",
            "tensor([186101, 364242, 154394,  ...,  78950, 120003, 275598])\n",
            "Top 136987 influential nodes according to GraphSAGE:\n",
            "tensor([ 10646,    688,   4892,  ..., 234856, 151390, 188769])\n",
            "Top 136987 influential nodes according to Graphormer:\n",
            "tensor([ 11338,   1246,  37531,  ..., 259173,  81225,  41488])\n"
          ]
        }
      ],
      "source": [
        "gcn_scores = torch.load(\"/content/drive/MyDrive/SNS/preds/gcn_preds_regressor.pt\")\n",
        "sage_scores = torch.load(\"/content/drive/MyDrive/SNS/preds/sage_preds_regressor.pt\")\n",
        "graphormer_scores = torch.load(\"/content/drive/MyDrive/SNS/preds/graphormer_preds_regressor.pt\")\n",
        "\n",
        "def get_influence_confidence(scores):\n",
        "    return scores\n",
        "\n",
        "\n",
        "gcn_conf = get_influence_confidence(gcn_scores)\n",
        "gat_conf = get_influence_confidence(gat_scores)\n",
        "sage_conf = get_influence_confidence(sage_scores)\n",
        "graphormer_conf = get_influence_confidence(graphormer_scores)\n",
        "\n",
        "def get_top_k_nodes(conf_scores, k):\n",
        "    topk_vals, topk_indices = torch.topk(conf_scores, k)\n",
        "    return topk_indices, topk_vals\n",
        "\n",
        "num_nodes = gcn_conf.size(0)\n",
        "top_k = int(num_nodes * 0.3)\n",
        "\n",
        "\n",
        "gcn_top_nodes, gcn_top_scores = get_top_k_nodes(gcn_conf, top_k)\n",
        "gat_top_nodes, gat_top_scores = get_top_k_nodes(gat_conf, top_k)\n",
        "sage_top_nodes, sage_top_scores = get_top_k_nodes(sage_conf, top_k)\n",
        "graphormer_top_nodes, graphormer_top_scores = get_top_k_nodes(graphormer_conf, top_k)\n",
        "\n",
        "print(f\"Top {top_k} influential nodes according to GCN:\")\n",
        "print(gcn_top_nodes)\n",
        "\n",
        "print(f\"Top {top_k} influential nodes according to GAT:\")\n",
        "print(gat_top_nodes)\n",
        "\n",
        "print(f\"Top {top_k} influential nodes according to GraphSAGE:\")\n",
        "print(sage_top_nodes)\n",
        "\n",
        "print(f\"Top {top_k} influential nodes according to Graphormer:\")\n",
        "print(graphormer_top_nodes)\n",
        "\n",
        "\n",
        "torch.save({\n",
        "    'gcn_top_nodes': gcn_top_nodes,\n",
        "    'gcn_top_scores': gcn_top_scores,\n",
        "    'sage_top_nodes': sage_top_nodes,\n",
        "    'sage_top_scores': sage_top_scores,\n",
        "    'graphormer_top_nodes': graphormer_top_nodes,\n",
        "    'graphormer_top_scores': graphormer_top_scores,\n",
        "}, \"/content/drive/MyDrive/SNS/preds/top_influential_nodes_regressor.pt\")\n"
      ]
    },
    {
      "cell_type": "markdown",
      "metadata": {
        "id": "0Za6x9QmGSEb"
      },
      "source": [
        "# 3. Compare Predicted Influential Nodes vs Ground Truth\n"
      ]
    },
    {
      "cell_type": "code",
      "execution_count": null,
      "metadata": {
        "colab": {
          "base_uri": "https://localhost:8080/"
        },
        "id": "1FAul0kAGVHo",
        "outputId": "93334fa8-ba2c-4910-e689-3982d4b0ec46"
      },
      "outputs": [
        {
          "name": "stdout",
          "output_type": "stream",
          "text": [
            "GCN - Accuracy: 0.8130, Precision: 0.7668, Recall: 0.5413, F1: 0.6346\n",
            "GAT - Accuracy: 0.7637, Precision: 0.6454, Recall: 0.4711, F1: 0.5447\n",
            "GraphSAGE - Accuracy: 0.8090, Precision: 0.7362, Recall: 0.5663, F1: 0.6402\n"
          ]
        }
      ],
      "source": [
        "import torch\n",
        "from sklearn.metrics import precision_score, recall_score, f1_score\n",
        "\n",
        "def binarize_top_k_percent(scores, k=0.30):\n",
        "    threshold = torch.quantile(scores, 1 - k)\n",
        "    binary_labels = (scores >= threshold).long()\n",
        "    return binary_labels\n",
        "\n",
        "def evaluate_model_regression(pred_scores, true_scores, top_k=0.30):\n",
        "    pred_labels = binarize_top_k_percent(pred_scores, k=top_k).cpu().numpy()\n",
        "    true_labels = binarize_top_k_percent(true_scores, k=top_k).cpu().numpy()\n",
        "\n",
        "    precision = precision_score(true_labels, pred_labels)\n",
        "    recall = recall_score(true_labels, pred_labels)\n",
        "    f1 = f1_score(true_labels, pred_labels)\n",
        "\n",
        "    return precision, recall, f1\n",
        "\n",
        "\n",
        "top_k_percent = 0.30\n",
        "\n",
        "precision, recall, f1 = evaluate_model_regression(gcn_scores, pyg_data.y, top_k=top_k_percent)\n",
        "print(f\"GCN Regression Model - Precision: {precision:.4f}, Recall: {recall:.4f}, F1: {f1:.4f}\")\n",
        "\n",
        "precision, recall, f1 = evaluate_model_regression(graphormer_scores, pyg_data.y, top_k=top_k_percent)\n",
        "print(f\"Graphormer Regression Model - Precision: {precision:.4f}, Recall: {recall:.4f}, F1: {f1:.4f}\")\n",
        "\n",
        "precision, recall, f1 = evaluate_model_regression(sage_scores, pyg_data.y, top_k=top_k_percent)\n",
        "print(f\"GraphSAGE Regression Model - Precision: {precision:.4f}, Recall: {recall:.4f}, F1: {f1:.4f}\")"
      ]
    },
    {
      "cell_type": "markdown",
      "metadata": {
        "id": "ILKQ70qzOWB9"
      },
      "source": [
        "#4. Influence Minimization / Intervention Simulation\n"
      ]
    },
    {
      "cell_type": "code",
      "execution_count": null,
      "metadata": {
        "id": "8APvMiDcUD4u"
      },
      "outputs": [],
      "source": [
        "top_nodes_data = torch.load(\"/content/drive/MyDrive/SNS/preds/top_influential_nodes_regressor.pt\")\n",
        "gcn_top_nodes = top_nodes_data[\"gcn_top_nodes\"].tolist()\n",
        "gat_top_nodes = top_nodes_data[\"gat_top_nodes\"].tolist()\n",
        "sage_top_nodes = top_nodes_data[\"sage_top_nodes\"].tolist()\n",
        "\n",
        "\n",
        "with open(\"/content/drive/MyDrive/SNS/models/influence_graph.pkl\", \"rb\") as f:\n",
        "    influence_graph = pickle.load(f)\n",
        "\n",
        "\n",
        "topk = len(gcn_top_nodes)\n",
        "\n",
        "\n",
        "degree_sorted = sorted(influence_graph.degree, key=lambda x: x[1], reverse=True)\n",
        "high_degree_nodes = [n for n, _ in degree_sorted[:topk]]\n",
        "\n",
        "\n",
        "all_nodes = list(influence_graph.nodes)\n",
        "random_nodes = random.sample(all_nodes, topk)\n",
        "\n",
        "\n",
        "def remove_nodes(graph, nodes_to_remove):\n",
        "    G_copy = graph.copy()\n",
        "    G_copy.remove_nodes_from(nodes_to_remove)\n",
        "    return G_copy\n",
        "\n",
        "\n",
        "G_gcn_removed = remove_nodes(influence_graph, gcn_top_nodes)\n",
        "G_gat_removed = remove_nodes(influence_graph, gat_top_nodes)\n",
        "G_sage_removed = remove_nodes(influence_graph, sage_top_nodes)\n",
        "G_deg_removed = remove_nodes(influence_graph, high_degree_nodes)\n",
        "G_rand_removed = remove_nodes(influence_graph, random_nodes)\n",
        "\n",
        "\n",
        "def run_ic_model(G, seeds, p=0.1, max_iters=1000):\n",
        "    active = set(seeds)\n",
        "    newly_active = set(seeds)\n",
        "    for _ in range(max_iters):\n",
        "        next_active = set()\n",
        "        for node in newly_active:\n",
        "            for neighbor in G.neighbors(node):\n",
        "                if neighbor not in active and random.random() < p:\n",
        "                    next_active.add(neighbor)\n",
        "        if not next_active:\n",
        "            break\n",
        "        active.update(next_active)\n",
        "        newly_active = next_active\n",
        "    return len(active)\n",
        "\n",
        "\n",
        "initial_seeds = random.sample(list(influence_graph.nodes), 50)\n",
        "\n",
        "def valid_seeds(G, seeds):\n",
        "    return [s for s in seeds if s in G.nodes]\n",
        "\n",
        "\n",
        "spread_original = run_ic_model(influence_graph, valid_seeds(influence_graph, initial_seeds))\n",
        "spread_gcn      = run_ic_model(G_gcn_removed,    valid_seeds(G_gcn_removed, initial_seeds))\n",
        "spread_gat      = run_ic_model(G_gat_removed,    valid_seeds(G_gat_removed, initial_seeds))\n",
        "spread_sage     = run_ic_model(G_sage_removed,   valid_seeds(G_sage_removed, initial_seeds))\n",
        "spread_degree   = run_ic_model(G_deg_removed,    valid_seeds(G_deg_removed, initial_seeds))\n",
        "spread_random   = run_ic_model(G_rand_removed,   valid_seeds(G_rand_removed, initial_seeds))\n",
        "\n",
        "\n",
        "results = {\n",
        "    \"Original\": spread_original,\n",
        "    \"GCN Top-K Removed\": spread_gcn,\n",
        "    \"GAT Top-K Removed\": spread_gat,\n",
        "    \"SAGE Top-K Removed\": spread_sage,\n",
        "    \"High Degree Removed\": spread_degree,\n",
        "    \"Random Removed\": spread_random\n",
        "}\n",
        "\n",
        "print(\"\\n--- Influence Spread Comparison ---\")\n",
        "for strategy, spread in results.items():\n",
        "    print(f\"{strategy}: Spread size = {spread}\")\n",
        "\n",
        "print(\"\\n--- Reduction Compared to Original ---\")\n",
        "for strategy, spread in results.items():\n",
        "    if strategy != \"Original\":\n",
        "        reduction = 100 * (results[\"Original\"] - spread) / results[\"Original\"]\n",
        "        print(f\"{strategy}: Reduction = {reduction:.2f}%\")\n"
      ]
    },
    {
      "cell_type": "markdown",
      "source": [
        "**VISUALIZATION**"
      ],
      "metadata": {
        "id": "G39cgfge2Ptj"
      }
    },
    {
      "cell_type": "code",
      "execution_count": null,
      "metadata": {
        "id": "D-hx6EPpmgzt"
      },
      "outputs": [],
      "source": [
        "import matplotlib.pyplot as plt\n",
        "\n",
        "results = {\n",
        "    \"Original\": spread_original,\n",
        "    \"GCN Top-K Removed\": spread_gcn,\n",
        "    \"SAGE Top-K Removed\": spread_sage,\n",
        "    \"High Degree Removed\": spread_degree,\n",
        "    \"Random Removed\": spread_random\n",
        "}\n",
        "\n",
        "\n",
        "plt.figure(figsize=(10, 6))\n",
        "\n",
        "colors = {\n",
        "    \"Original\": \"#4caf50\",\n",
        "    \"GCN Top-K Removed\": \"#2196f3\",\n",
        "    \"SAGE Top-K Removed\": \"#9c27b0\",\n",
        "    \"High Degree Removed\": \"#f44336\",\n",
        "    \"Random Removed\": \"#607d8b\"\n",
        "}\n",
        "\n",
        "bars = plt.bar(results.keys(), results.values(), color=[colors[k] for k in results.keys()])\n",
        "\n",
        "plt.title(\"Influence Spread After Node Removal (Independent Cascade)\", fontsize=14)\n",
        "plt.ylabel(\"Number of Nodes Influenced\", fontsize=12)\n",
        "plt.xticks(rotation=45, ha='right')\n",
        "plt.grid(axis=\"y\", linestyle=\"--\", alpha=0.7)\n",
        "\n",
        "\n",
        "original_spread = results[\"Original\"]\n",
        "for bar, key in zip(bars, results.keys()):\n",
        "    spread = bar.get_height()\n",
        "    if key != \"Original\":\n",
        "        reduction = 100 * (original_spread - spread) / original_spread\n",
        "        label = f\"{int(spread)}\\n↓{reduction:.1f}%\"\n",
        "    else:\n",
        "        label = f\"{int(spread)}\"\n",
        "    plt.text(bar.get_x() + bar.get_width() / 2, spread + 1000, label, ha='center', fontsize=10)\n",
        "\n",
        "plt.tight_layout()\n",
        "plt.show()\n"
      ]
    }
  ],
  "metadata": {
    "colab": {
      "provenance": []
    },
    "kernelspec": {
      "display_name": "Python 3",
      "name": "python3"
    },
    "language_info": {
      "name": "python"
    }
  },
  "nbformat": 4,
  "nbformat_minor": 0
}